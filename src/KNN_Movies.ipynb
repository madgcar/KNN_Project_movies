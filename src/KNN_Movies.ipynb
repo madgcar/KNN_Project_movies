{
    "cells": [
        {
            "cell_type": "markdown",
            "metadata": {},
            "source": [
                "Instrucciones\n",
                "Sistema de recomendación de películas.\n",
                "\n",
                "¿Podemos predecir qué películas tendrán una calificación alta, incluso si no son un éxito comercial?\n",
                "\n",
                "Este conjunto de datos es un subconjunto de la enorme API de base de datos de películas de TMDB, que contiene solo 5000 películas del número total."
            ]
        },
        {
            "cell_type": "markdown",
            "metadata": {},
            "source": [
                "Dataset links:\n",
                "\n",
                "tmdb_5000_movies: https://raw.githubusercontent.com/4GeeksAcademy/k-nearest-neighbors-project-tutorial/main/tmdb_5000_movies.csv\n",
                "\n",
                "tmdb_5000_credits zip file to download: https://github.com/4GeeksAcademy/k-nearest-neighbors-project-tutorial/blob/main/tmdb_5000_credits.zip"
            ]
        },
        {
            "cell_type": "markdown",
            "metadata": {},
            "source": [
                "Sobre la solucion: es una reproduccion de la solucion planteada por la escuela 4Geek en su plataforma, con algunas pequeñas modificaciones"
            ]
        },
        {
            "cell_type": "markdown",
            "metadata": {},
            "source": [
                "Importo las librerias necesarias"
            ]
        },
        {
            "cell_type": "code",
            "execution_count": 74,
            "metadata": {},
            "outputs": [],
            "source": [
                "#!pip install pandas\n",
                "#!pip install numpy\n",
                "#!pip install matplotlib\n",
                "#!pip install seaborn\n",
                "#!pip install sklearn\n",
                "#!pip install shutil"
            ]
        },
        {
            "cell_type": "code",
            "execution_count": 75,
            "metadata": {},
            "outputs": [],
            "source": [
                "import pandas as pd \n",
                "import numpy as np\n",
                "import matplotlib.pyplot as plt\n",
                "import seaborn as sns\n",
                "%matplotlib inline\n",
                "import shutil"
            ]
        },
        {
            "cell_type": "markdown",
            "metadata": {},
            "source": [
                "Extraigo los datos"
            ]
        },
        {
            "cell_type": "code",
            "execution_count": 76,
            "metadata": {},
            "outputs": [],
            "source": [
                "#Primer Dataset\n",
                "movies = pd.read_csv('https://raw.githubusercontent.com/4GeeksAcademy/k-nearest-neighbors-project-tutorial/main/tmdb_5000_movies.csv')"
            ]
        },
        {
            "cell_type": "markdown",
            "metadata": {},
            "source": [
                "Como el segundo archivo esta en formato zip, primero debo extraer del directorio para cargar los datos posteriormente"
            ]
        },
        {
            "cell_type": "code",
            "execution_count": 77,
            "metadata": {},
            "outputs": [],
            "source": [
                "shutil.unpack_archive('/workspace/KNN_Project_movies/data/raw/tmdb_5000_credits.zip')"
            ]
        },
        {
            "cell_type": "code",
            "execution_count": 78,
            "metadata": {},
            "outputs": [],
            "source": [
                "# Cargo el segundo Dataset\n",
                "\n",
                "credits = pd.read_csv('tmdb_5000_credits.csv')"
            ]
        },
        {
            "cell_type": "markdown",
            "metadata": {},
            "source": [
                "Exploro los datos tanto en caracteristicas de las peliculas como el numero de observaciones de cada Dataset"
            ]
        },
        {
            "cell_type": "code",
            "execution_count": 79,
            "metadata": {},
            "outputs": [
                {
                    "data": {
                        "text/html": [
                            "<div>\n",
                            "<style scoped>\n",
                            "    .dataframe tbody tr th:only-of-type {\n",
                            "        vertical-align: middle;\n",
                            "    }\n",
                            "\n",
                            "    .dataframe tbody tr th {\n",
                            "        vertical-align: top;\n",
                            "    }\n",
                            "\n",
                            "    .dataframe thead th {\n",
                            "        text-align: right;\n",
                            "    }\n",
                            "</style>\n",
                            "<table border=\"1\" class=\"dataframe\">\n",
                            "  <thead>\n",
                            "    <tr style=\"text-align: right;\">\n",
                            "      <th></th>\n",
                            "      <th>budget</th>\n",
                            "      <th>genres</th>\n",
                            "      <th>homepage</th>\n",
                            "      <th>id</th>\n",
                            "      <th>keywords</th>\n",
                            "      <th>original_language</th>\n",
                            "      <th>original_title</th>\n",
                            "      <th>overview</th>\n",
                            "      <th>popularity</th>\n",
                            "      <th>production_companies</th>\n",
                            "      <th>production_countries</th>\n",
                            "      <th>release_date</th>\n",
                            "      <th>revenue</th>\n",
                            "      <th>runtime</th>\n",
                            "      <th>spoken_languages</th>\n",
                            "      <th>status</th>\n",
                            "      <th>tagline</th>\n",
                            "      <th>title</th>\n",
                            "      <th>vote_average</th>\n",
                            "      <th>vote_count</th>\n",
                            "    </tr>\n",
                            "  </thead>\n",
                            "  <tbody>\n",
                            "    <tr>\n",
                            "      <th>0</th>\n",
                            "      <td>237000000</td>\n",
                            "      <td>[{\"id\": 28, \"name\": \"Action\"}, {\"id\": 12, \"nam...</td>\n",
                            "      <td>http://www.avatarmovie.com/</td>\n",
                            "      <td>19995</td>\n",
                            "      <td>[{\"id\": 1463, \"name\": \"culture clash\"}, {\"id\":...</td>\n",
                            "      <td>en</td>\n",
                            "      <td>Avatar</td>\n",
                            "      <td>In the 22nd century, a paraplegic Marine is di...</td>\n",
                            "      <td>150.437577</td>\n",
                            "      <td>[{\"name\": \"Ingenious Film Partners\", \"id\": 289...</td>\n",
                            "      <td>[{\"iso_3166_1\": \"US\", \"name\": \"United States o...</td>\n",
                            "      <td>2009-12-10</td>\n",
                            "      <td>2787965087</td>\n",
                            "      <td>162.0</td>\n",
                            "      <td>[{\"iso_639_1\": \"en\", \"name\": \"English\"}, {\"iso...</td>\n",
                            "      <td>Released</td>\n",
                            "      <td>Enter the World of Pandora.</td>\n",
                            "      <td>Avatar</td>\n",
                            "      <td>7.2</td>\n",
                            "      <td>11800</td>\n",
                            "    </tr>\n",
                            "    <tr>\n",
                            "      <th>1</th>\n",
                            "      <td>300000000</td>\n",
                            "      <td>[{\"id\": 12, \"name\": \"Adventure\"}, {\"id\": 14, \"...</td>\n",
                            "      <td>http://disney.go.com/disneypictures/pirates/</td>\n",
                            "      <td>285</td>\n",
                            "      <td>[{\"id\": 270, \"name\": \"ocean\"}, {\"id\": 726, \"na...</td>\n",
                            "      <td>en</td>\n",
                            "      <td>Pirates of the Caribbean: At World's End</td>\n",
                            "      <td>Captain Barbossa, long believed to be dead, ha...</td>\n",
                            "      <td>139.082615</td>\n",
                            "      <td>[{\"name\": \"Walt Disney Pictures\", \"id\": 2}, {\"...</td>\n",
                            "      <td>[{\"iso_3166_1\": \"US\", \"name\": \"United States o...</td>\n",
                            "      <td>2007-05-19</td>\n",
                            "      <td>961000000</td>\n",
                            "      <td>169.0</td>\n",
                            "      <td>[{\"iso_639_1\": \"en\", \"name\": \"English\"}]</td>\n",
                            "      <td>Released</td>\n",
                            "      <td>At the end of the world, the adventure begins.</td>\n",
                            "      <td>Pirates of the Caribbean: At World's End</td>\n",
                            "      <td>6.9</td>\n",
                            "      <td>4500</td>\n",
                            "    </tr>\n",
                            "    <tr>\n",
                            "      <th>2</th>\n",
                            "      <td>245000000</td>\n",
                            "      <td>[{\"id\": 28, \"name\": \"Action\"}, {\"id\": 12, \"nam...</td>\n",
                            "      <td>http://www.sonypictures.com/movies/spectre/</td>\n",
                            "      <td>206647</td>\n",
                            "      <td>[{\"id\": 470, \"name\": \"spy\"}, {\"id\": 818, \"name...</td>\n",
                            "      <td>en</td>\n",
                            "      <td>Spectre</td>\n",
                            "      <td>A cryptic message from Bond’s past sends him o...</td>\n",
                            "      <td>107.376788</td>\n",
                            "      <td>[{\"name\": \"Columbia Pictures\", \"id\": 5}, {\"nam...</td>\n",
                            "      <td>[{\"iso_3166_1\": \"GB\", \"name\": \"United Kingdom\"...</td>\n",
                            "      <td>2015-10-26</td>\n",
                            "      <td>880674609</td>\n",
                            "      <td>148.0</td>\n",
                            "      <td>[{\"iso_639_1\": \"fr\", \"name\": \"Fran\\u00e7ais\"},...</td>\n",
                            "      <td>Released</td>\n",
                            "      <td>A Plan No One Escapes</td>\n",
                            "      <td>Spectre</td>\n",
                            "      <td>6.3</td>\n",
                            "      <td>4466</td>\n",
                            "    </tr>\n",
                            "    <tr>\n",
                            "      <th>3</th>\n",
                            "      <td>250000000</td>\n",
                            "      <td>[{\"id\": 28, \"name\": \"Action\"}, {\"id\": 80, \"nam...</td>\n",
                            "      <td>http://www.thedarkknightrises.com/</td>\n",
                            "      <td>49026</td>\n",
                            "      <td>[{\"id\": 849, \"name\": \"dc comics\"}, {\"id\": 853,...</td>\n",
                            "      <td>en</td>\n",
                            "      <td>The Dark Knight Rises</td>\n",
                            "      <td>Following the death of District Attorney Harve...</td>\n",
                            "      <td>112.312950</td>\n",
                            "      <td>[{\"name\": \"Legendary Pictures\", \"id\": 923}, {\"...</td>\n",
                            "      <td>[{\"iso_3166_1\": \"US\", \"name\": \"United States o...</td>\n",
                            "      <td>2012-07-16</td>\n",
                            "      <td>1084939099</td>\n",
                            "      <td>165.0</td>\n",
                            "      <td>[{\"iso_639_1\": \"en\", \"name\": \"English\"}]</td>\n",
                            "      <td>Released</td>\n",
                            "      <td>The Legend Ends</td>\n",
                            "      <td>The Dark Knight Rises</td>\n",
                            "      <td>7.6</td>\n",
                            "      <td>9106</td>\n",
                            "    </tr>\n",
                            "    <tr>\n",
                            "      <th>4</th>\n",
                            "      <td>260000000</td>\n",
                            "      <td>[{\"id\": 28, \"name\": \"Action\"}, {\"id\": 12, \"nam...</td>\n",
                            "      <td>http://movies.disney.com/john-carter</td>\n",
                            "      <td>49529</td>\n",
                            "      <td>[{\"id\": 818, \"name\": \"based on novel\"}, {\"id\":...</td>\n",
                            "      <td>en</td>\n",
                            "      <td>John Carter</td>\n",
                            "      <td>John Carter is a war-weary, former military ca...</td>\n",
                            "      <td>43.926995</td>\n",
                            "      <td>[{\"name\": \"Walt Disney Pictures\", \"id\": 2}]</td>\n",
                            "      <td>[{\"iso_3166_1\": \"US\", \"name\": \"United States o...</td>\n",
                            "      <td>2012-03-07</td>\n",
                            "      <td>284139100</td>\n",
                            "      <td>132.0</td>\n",
                            "      <td>[{\"iso_639_1\": \"en\", \"name\": \"English\"}]</td>\n",
                            "      <td>Released</td>\n",
                            "      <td>Lost in our world, found in another.</td>\n",
                            "      <td>John Carter</td>\n",
                            "      <td>6.1</td>\n",
                            "      <td>2124</td>\n",
                            "    </tr>\n",
                            "  </tbody>\n",
                            "</table>\n",
                            "</div>"
                        ],
                        "text/plain": [
                            "      budget                                             genres  \\\n",
                            "0  237000000  [{\"id\": 28, \"name\": \"Action\"}, {\"id\": 12, \"nam...   \n",
                            "1  300000000  [{\"id\": 12, \"name\": \"Adventure\"}, {\"id\": 14, \"...   \n",
                            "2  245000000  [{\"id\": 28, \"name\": \"Action\"}, {\"id\": 12, \"nam...   \n",
                            "3  250000000  [{\"id\": 28, \"name\": \"Action\"}, {\"id\": 80, \"nam...   \n",
                            "4  260000000  [{\"id\": 28, \"name\": \"Action\"}, {\"id\": 12, \"nam...   \n",
                            "\n",
                            "                                       homepage      id  \\\n",
                            "0                   http://www.avatarmovie.com/   19995   \n",
                            "1  http://disney.go.com/disneypictures/pirates/     285   \n",
                            "2   http://www.sonypictures.com/movies/spectre/  206647   \n",
                            "3            http://www.thedarkknightrises.com/   49026   \n",
                            "4          http://movies.disney.com/john-carter   49529   \n",
                            "\n",
                            "                                            keywords original_language  \\\n",
                            "0  [{\"id\": 1463, \"name\": \"culture clash\"}, {\"id\":...                en   \n",
                            "1  [{\"id\": 270, \"name\": \"ocean\"}, {\"id\": 726, \"na...                en   \n",
                            "2  [{\"id\": 470, \"name\": \"spy\"}, {\"id\": 818, \"name...                en   \n",
                            "3  [{\"id\": 849, \"name\": \"dc comics\"}, {\"id\": 853,...                en   \n",
                            "4  [{\"id\": 818, \"name\": \"based on novel\"}, {\"id\":...                en   \n",
                            "\n",
                            "                             original_title  \\\n",
                            "0                                    Avatar   \n",
                            "1  Pirates of the Caribbean: At World's End   \n",
                            "2                                   Spectre   \n",
                            "3                     The Dark Knight Rises   \n",
                            "4                               John Carter   \n",
                            "\n",
                            "                                            overview  popularity  \\\n",
                            "0  In the 22nd century, a paraplegic Marine is di...  150.437577   \n",
                            "1  Captain Barbossa, long believed to be dead, ha...  139.082615   \n",
                            "2  A cryptic message from Bond’s past sends him o...  107.376788   \n",
                            "3  Following the death of District Attorney Harve...  112.312950   \n",
                            "4  John Carter is a war-weary, former military ca...   43.926995   \n",
                            "\n",
                            "                                production_companies  \\\n",
                            "0  [{\"name\": \"Ingenious Film Partners\", \"id\": 289...   \n",
                            "1  [{\"name\": \"Walt Disney Pictures\", \"id\": 2}, {\"...   \n",
                            "2  [{\"name\": \"Columbia Pictures\", \"id\": 5}, {\"nam...   \n",
                            "3  [{\"name\": \"Legendary Pictures\", \"id\": 923}, {\"...   \n",
                            "4        [{\"name\": \"Walt Disney Pictures\", \"id\": 2}]   \n",
                            "\n",
                            "                                production_countries release_date     revenue  \\\n",
                            "0  [{\"iso_3166_1\": \"US\", \"name\": \"United States o...   2009-12-10  2787965087   \n",
                            "1  [{\"iso_3166_1\": \"US\", \"name\": \"United States o...   2007-05-19   961000000   \n",
                            "2  [{\"iso_3166_1\": \"GB\", \"name\": \"United Kingdom\"...   2015-10-26   880674609   \n",
                            "3  [{\"iso_3166_1\": \"US\", \"name\": \"United States o...   2012-07-16  1084939099   \n",
                            "4  [{\"iso_3166_1\": \"US\", \"name\": \"United States o...   2012-03-07   284139100   \n",
                            "\n",
                            "   runtime                                   spoken_languages    status  \\\n",
                            "0    162.0  [{\"iso_639_1\": \"en\", \"name\": \"English\"}, {\"iso...  Released   \n",
                            "1    169.0           [{\"iso_639_1\": \"en\", \"name\": \"English\"}]  Released   \n",
                            "2    148.0  [{\"iso_639_1\": \"fr\", \"name\": \"Fran\\u00e7ais\"},...  Released   \n",
                            "3    165.0           [{\"iso_639_1\": \"en\", \"name\": \"English\"}]  Released   \n",
                            "4    132.0           [{\"iso_639_1\": \"en\", \"name\": \"English\"}]  Released   \n",
                            "\n",
                            "                                          tagline  \\\n",
                            "0                     Enter the World of Pandora.   \n",
                            "1  At the end of the world, the adventure begins.   \n",
                            "2                           A Plan No One Escapes   \n",
                            "3                                 The Legend Ends   \n",
                            "4            Lost in our world, found in another.   \n",
                            "\n",
                            "                                      title  vote_average  vote_count  \n",
                            "0                                    Avatar           7.2       11800  \n",
                            "1  Pirates of the Caribbean: At World's End           6.9        4500  \n",
                            "2                                   Spectre           6.3        4466  \n",
                            "3                     The Dark Knight Rises           7.6        9106  \n",
                            "4                               John Carter           6.1        2124  "
                        ]
                    },
                    "execution_count": 79,
                    "metadata": {},
                    "output_type": "execute_result"
                }
            ],
            "source": [
                "movies.head()"
            ]
        },
        {
            "cell_type": "code",
            "execution_count": 80,
            "metadata": {},
            "outputs": [
                {
                    "data": {
                        "text/html": [
                            "<div>\n",
                            "<style scoped>\n",
                            "    .dataframe tbody tr th:only-of-type {\n",
                            "        vertical-align: middle;\n",
                            "    }\n",
                            "\n",
                            "    .dataframe tbody tr th {\n",
                            "        vertical-align: top;\n",
                            "    }\n",
                            "\n",
                            "    .dataframe thead th {\n",
                            "        text-align: right;\n",
                            "    }\n",
                            "</style>\n",
                            "<table border=\"1\" class=\"dataframe\">\n",
                            "  <thead>\n",
                            "    <tr style=\"text-align: right;\">\n",
                            "      <th></th>\n",
                            "      <th>budget</th>\n",
                            "      <th>genres</th>\n",
                            "      <th>homepage</th>\n",
                            "      <th>id</th>\n",
                            "      <th>keywords</th>\n",
                            "      <th>original_language</th>\n",
                            "      <th>original_title</th>\n",
                            "      <th>overview</th>\n",
                            "      <th>popularity</th>\n",
                            "      <th>production_companies</th>\n",
                            "      <th>production_countries</th>\n",
                            "      <th>release_date</th>\n",
                            "      <th>revenue</th>\n",
                            "      <th>runtime</th>\n",
                            "      <th>spoken_languages</th>\n",
                            "      <th>status</th>\n",
                            "      <th>tagline</th>\n",
                            "      <th>title</th>\n",
                            "      <th>vote_average</th>\n",
                            "      <th>vote_count</th>\n",
                            "    </tr>\n",
                            "  </thead>\n",
                            "  <tbody>\n",
                            "    <tr>\n",
                            "      <th>4798</th>\n",
                            "      <td>220000</td>\n",
                            "      <td>[{\"id\": 28, \"name\": \"Action\"}, {\"id\": 80, \"nam...</td>\n",
                            "      <td>NaN</td>\n",
                            "      <td>9367</td>\n",
                            "      <td>[{\"id\": 5616, \"name\": \"united states\\u2013mexi...</td>\n",
                            "      <td>es</td>\n",
                            "      <td>El Mariachi</td>\n",
                            "      <td>El Mariachi just wants to play his guitar and ...</td>\n",
                            "      <td>14.269792</td>\n",
                            "      <td>[{\"name\": \"Columbia Pictures\", \"id\": 5}]</td>\n",
                            "      <td>[{\"iso_3166_1\": \"MX\", \"name\": \"Mexico\"}, {\"iso...</td>\n",
                            "      <td>1992-09-04</td>\n",
                            "      <td>2040920</td>\n",
                            "      <td>81.0</td>\n",
                            "      <td>[{\"iso_639_1\": \"es\", \"name\": \"Espa\\u00f1ol\"}]</td>\n",
                            "      <td>Released</td>\n",
                            "      <td>He didn't come looking for trouble, but troubl...</td>\n",
                            "      <td>El Mariachi</td>\n",
                            "      <td>6.6</td>\n",
                            "      <td>238</td>\n",
                            "    </tr>\n",
                            "    <tr>\n",
                            "      <th>4799</th>\n",
                            "      <td>9000</td>\n",
                            "      <td>[{\"id\": 35, \"name\": \"Comedy\"}, {\"id\": 10749, \"...</td>\n",
                            "      <td>NaN</td>\n",
                            "      <td>72766</td>\n",
                            "      <td>[]</td>\n",
                            "      <td>en</td>\n",
                            "      <td>Newlyweds</td>\n",
                            "      <td>A newlywed couple's honeymoon is upended by th...</td>\n",
                            "      <td>0.642552</td>\n",
                            "      <td>[]</td>\n",
                            "      <td>[]</td>\n",
                            "      <td>2011-12-26</td>\n",
                            "      <td>0</td>\n",
                            "      <td>85.0</td>\n",
                            "      <td>[]</td>\n",
                            "      <td>Released</td>\n",
                            "      <td>A newlywed couple's honeymoon is upended by th...</td>\n",
                            "      <td>Newlyweds</td>\n",
                            "      <td>5.9</td>\n",
                            "      <td>5</td>\n",
                            "    </tr>\n",
                            "    <tr>\n",
                            "      <th>4800</th>\n",
                            "      <td>0</td>\n",
                            "      <td>[{\"id\": 35, \"name\": \"Comedy\"}, {\"id\": 18, \"nam...</td>\n",
                            "      <td>http://www.hallmarkchannel.com/signedsealeddel...</td>\n",
                            "      <td>231617</td>\n",
                            "      <td>[{\"id\": 248, \"name\": \"date\"}, {\"id\": 699, \"nam...</td>\n",
                            "      <td>en</td>\n",
                            "      <td>Signed, Sealed, Delivered</td>\n",
                            "      <td>\"Signed, Sealed, Delivered\" introduces a dedic...</td>\n",
                            "      <td>1.444476</td>\n",
                            "      <td>[{\"name\": \"Front Street Pictures\", \"id\": 3958}...</td>\n",
                            "      <td>[{\"iso_3166_1\": \"US\", \"name\": \"United States o...</td>\n",
                            "      <td>2013-10-13</td>\n",
                            "      <td>0</td>\n",
                            "      <td>120.0</td>\n",
                            "      <td>[{\"iso_639_1\": \"en\", \"name\": \"English\"}]</td>\n",
                            "      <td>Released</td>\n",
                            "      <td>NaN</td>\n",
                            "      <td>Signed, Sealed, Delivered</td>\n",
                            "      <td>7.0</td>\n",
                            "      <td>6</td>\n",
                            "    </tr>\n",
                            "    <tr>\n",
                            "      <th>4801</th>\n",
                            "      <td>0</td>\n",
                            "      <td>[]</td>\n",
                            "      <td>http://shanghaicalling.com/</td>\n",
                            "      <td>126186</td>\n",
                            "      <td>[]</td>\n",
                            "      <td>en</td>\n",
                            "      <td>Shanghai Calling</td>\n",
                            "      <td>When ambitious New York attorney Sam is sent t...</td>\n",
                            "      <td>0.857008</td>\n",
                            "      <td>[]</td>\n",
                            "      <td>[{\"iso_3166_1\": \"US\", \"name\": \"United States o...</td>\n",
                            "      <td>2012-05-03</td>\n",
                            "      <td>0</td>\n",
                            "      <td>98.0</td>\n",
                            "      <td>[{\"iso_639_1\": \"en\", \"name\": \"English\"}]</td>\n",
                            "      <td>Released</td>\n",
                            "      <td>A New Yorker in Shanghai</td>\n",
                            "      <td>Shanghai Calling</td>\n",
                            "      <td>5.7</td>\n",
                            "      <td>7</td>\n",
                            "    </tr>\n",
                            "    <tr>\n",
                            "      <th>4802</th>\n",
                            "      <td>0</td>\n",
                            "      <td>[{\"id\": 99, \"name\": \"Documentary\"}]</td>\n",
                            "      <td>NaN</td>\n",
                            "      <td>25975</td>\n",
                            "      <td>[{\"id\": 1523, \"name\": \"obsession\"}, {\"id\": 224...</td>\n",
                            "      <td>en</td>\n",
                            "      <td>My Date with Drew</td>\n",
                            "      <td>Ever since the second grade when he first saw ...</td>\n",
                            "      <td>1.929883</td>\n",
                            "      <td>[{\"name\": \"rusty bear entertainment\", \"id\": 87...</td>\n",
                            "      <td>[{\"iso_3166_1\": \"US\", \"name\": \"United States o...</td>\n",
                            "      <td>2005-08-05</td>\n",
                            "      <td>0</td>\n",
                            "      <td>90.0</td>\n",
                            "      <td>[{\"iso_639_1\": \"en\", \"name\": \"English\"}]</td>\n",
                            "      <td>Released</td>\n",
                            "      <td>NaN</td>\n",
                            "      <td>My Date with Drew</td>\n",
                            "      <td>6.3</td>\n",
                            "      <td>16</td>\n",
                            "    </tr>\n",
                            "  </tbody>\n",
                            "</table>\n",
                            "</div>"
                        ],
                        "text/plain": [
                            "      budget                                             genres  \\\n",
                            "4798  220000  [{\"id\": 28, \"name\": \"Action\"}, {\"id\": 80, \"nam...   \n",
                            "4799    9000  [{\"id\": 35, \"name\": \"Comedy\"}, {\"id\": 10749, \"...   \n",
                            "4800       0  [{\"id\": 35, \"name\": \"Comedy\"}, {\"id\": 18, \"nam...   \n",
                            "4801       0                                                 []   \n",
                            "4802       0                [{\"id\": 99, \"name\": \"Documentary\"}]   \n",
                            "\n",
                            "                                               homepage      id  \\\n",
                            "4798                                                NaN    9367   \n",
                            "4799                                                NaN   72766   \n",
                            "4800  http://www.hallmarkchannel.com/signedsealeddel...  231617   \n",
                            "4801                        http://shanghaicalling.com/  126186   \n",
                            "4802                                                NaN   25975   \n",
                            "\n",
                            "                                               keywords original_language  \\\n",
                            "4798  [{\"id\": 5616, \"name\": \"united states\\u2013mexi...                es   \n",
                            "4799                                                 []                en   \n",
                            "4800  [{\"id\": 248, \"name\": \"date\"}, {\"id\": 699, \"nam...                en   \n",
                            "4801                                                 []                en   \n",
                            "4802  [{\"id\": 1523, \"name\": \"obsession\"}, {\"id\": 224...                en   \n",
                            "\n",
                            "                 original_title  \\\n",
                            "4798                El Mariachi   \n",
                            "4799                  Newlyweds   \n",
                            "4800  Signed, Sealed, Delivered   \n",
                            "4801           Shanghai Calling   \n",
                            "4802          My Date with Drew   \n",
                            "\n",
                            "                                               overview  popularity  \\\n",
                            "4798  El Mariachi just wants to play his guitar and ...   14.269792   \n",
                            "4799  A newlywed couple's honeymoon is upended by th...    0.642552   \n",
                            "4800  \"Signed, Sealed, Delivered\" introduces a dedic...    1.444476   \n",
                            "4801  When ambitious New York attorney Sam is sent t...    0.857008   \n",
                            "4802  Ever since the second grade when he first saw ...    1.929883   \n",
                            "\n",
                            "                                   production_companies  \\\n",
                            "4798           [{\"name\": \"Columbia Pictures\", \"id\": 5}]   \n",
                            "4799                                                 []   \n",
                            "4800  [{\"name\": \"Front Street Pictures\", \"id\": 3958}...   \n",
                            "4801                                                 []   \n",
                            "4802  [{\"name\": \"rusty bear entertainment\", \"id\": 87...   \n",
                            "\n",
                            "                                   production_countries release_date  revenue  \\\n",
                            "4798  [{\"iso_3166_1\": \"MX\", \"name\": \"Mexico\"}, {\"iso...   1992-09-04  2040920   \n",
                            "4799                                                 []   2011-12-26        0   \n",
                            "4800  [{\"iso_3166_1\": \"US\", \"name\": \"United States o...   2013-10-13        0   \n",
                            "4801  [{\"iso_3166_1\": \"US\", \"name\": \"United States o...   2012-05-03        0   \n",
                            "4802  [{\"iso_3166_1\": \"US\", \"name\": \"United States o...   2005-08-05        0   \n",
                            "\n",
                            "      runtime                               spoken_languages    status  \\\n",
                            "4798     81.0  [{\"iso_639_1\": \"es\", \"name\": \"Espa\\u00f1ol\"}]  Released   \n",
                            "4799     85.0                                             []  Released   \n",
                            "4800    120.0       [{\"iso_639_1\": \"en\", \"name\": \"English\"}]  Released   \n",
                            "4801     98.0       [{\"iso_639_1\": \"en\", \"name\": \"English\"}]  Released   \n",
                            "4802     90.0       [{\"iso_639_1\": \"en\", \"name\": \"English\"}]  Released   \n",
                            "\n",
                            "                                                tagline  \\\n",
                            "4798  He didn't come looking for trouble, but troubl...   \n",
                            "4799  A newlywed couple's honeymoon is upended by th...   \n",
                            "4800                                                NaN   \n",
                            "4801                           A New Yorker in Shanghai   \n",
                            "4802                                                NaN   \n",
                            "\n",
                            "                          title  vote_average  vote_count  \n",
                            "4798                El Mariachi           6.6         238  \n",
                            "4799                  Newlyweds           5.9           5  \n",
                            "4800  Signed, Sealed, Delivered           7.0           6  \n",
                            "4801           Shanghai Calling           5.7           7  \n",
                            "4802          My Date with Drew           6.3          16  "
                        ]
                    },
                    "execution_count": 80,
                    "metadata": {},
                    "output_type": "execute_result"
                }
            ],
            "source": [
                "movies.tail()"
            ]
        },
        {
            "cell_type": "code",
            "execution_count": 81,
            "metadata": {},
            "outputs": [
                {
                    "data": {
                        "text/html": [
                            "<div>\n",
                            "<style scoped>\n",
                            "    .dataframe tbody tr th:only-of-type {\n",
                            "        vertical-align: middle;\n",
                            "    }\n",
                            "\n",
                            "    .dataframe tbody tr th {\n",
                            "        vertical-align: top;\n",
                            "    }\n",
                            "\n",
                            "    .dataframe thead th {\n",
                            "        text-align: right;\n",
                            "    }\n",
                            "</style>\n",
                            "<table border=\"1\" class=\"dataframe\">\n",
                            "  <thead>\n",
                            "    <tr style=\"text-align: right;\">\n",
                            "      <th></th>\n",
                            "      <th>budget</th>\n",
                            "      <th>genres</th>\n",
                            "      <th>homepage</th>\n",
                            "      <th>id</th>\n",
                            "      <th>keywords</th>\n",
                            "      <th>original_language</th>\n",
                            "      <th>original_title</th>\n",
                            "      <th>overview</th>\n",
                            "      <th>popularity</th>\n",
                            "      <th>production_companies</th>\n",
                            "      <th>production_countries</th>\n",
                            "      <th>release_date</th>\n",
                            "      <th>revenue</th>\n",
                            "      <th>runtime</th>\n",
                            "      <th>spoken_languages</th>\n",
                            "      <th>status</th>\n",
                            "      <th>tagline</th>\n",
                            "      <th>title</th>\n",
                            "      <th>vote_average</th>\n",
                            "      <th>vote_count</th>\n",
                            "    </tr>\n",
                            "  </thead>\n",
                            "  <tbody>\n",
                            "    <tr>\n",
                            "      <th>4557</th>\n",
                            "      <td>0</td>\n",
                            "      <td>[{\"id\": 10749, \"name\": \"Romance\"}, {\"id\": 28, ...</td>\n",
                            "      <td>NaN</td>\n",
                            "      <td>380733</td>\n",
                            "      <td>[{\"id\": 6075, \"name\": \"sport\"}, {\"id\": 14955, ...</td>\n",
                            "      <td>en</td>\n",
                            "      <td>Fight to the Finish</td>\n",
                            "      <td>A young amateur fighter makes an enemy with a ...</td>\n",
                            "      <td>0.251828</td>\n",
                            "      <td>[{\"name\": \"Triple D Productions\", \"id\": 60954}...</td>\n",
                            "      <td>[{\"iso_3166_1\": \"US\", \"name\": \"United States o...</td>\n",
                            "      <td>2016-02-02</td>\n",
                            "      <td>0</td>\n",
                            "      <td>94.0</td>\n",
                            "      <td>[{\"iso_639_1\": \"en\", \"name\": \"English\"}]</td>\n",
                            "      <td>Released</td>\n",
                            "      <td>It's all or nothing</td>\n",
                            "      <td>Fight to the Finish</td>\n",
                            "      <td>5.2</td>\n",
                            "      <td>3</td>\n",
                            "    </tr>\n",
                            "    <tr>\n",
                            "      <th>756</th>\n",
                            "      <td>60000000</td>\n",
                            "      <td>[{\"id\": 80, \"name\": \"Crime\"}, {\"id\": 35, \"name...</td>\n",
                            "      <td>NaN</td>\n",
                            "      <td>11775</td>\n",
                            "      <td>[{\"id\": 387, \"name\": \"california\"}, {\"id\": 782...</td>\n",
                            "      <td>en</td>\n",
                            "      <td>Intolerable Cruelty</td>\n",
                            "      <td>A revenge-seeking gold digger marries a womani...</td>\n",
                            "      <td>22.620125</td>\n",
                            "      <td>[{\"name\": \"Imagine Entertainment\", \"id\": 23}, ...</td>\n",
                            "      <td>[{\"iso_3166_1\": \"US\", \"name\": \"United States o...</td>\n",
                            "      <td>2003-09-02</td>\n",
                            "      <td>119940815</td>\n",
                            "      <td>100.0</td>\n",
                            "      <td>[{\"iso_639_1\": \"fr\", \"name\": \"Fran\\u00e7ais\"},...</td>\n",
                            "      <td>Released</td>\n",
                            "      <td>They can't keep their hands off each others as...</td>\n",
                            "      <td>Intolerable Cruelty</td>\n",
                            "      <td>5.8</td>\n",
                            "      <td>391</td>\n",
                            "    </tr>\n",
                            "    <tr>\n",
                            "      <th>2933</th>\n",
                            "      <td>11</td>\n",
                            "      <td>[{\"id\": 18, \"name\": \"Drama\"}, {\"id\": 28, \"name...</td>\n",
                            "      <td>NaN</td>\n",
                            "      <td>28932</td>\n",
                            "      <td>[]</td>\n",
                            "      <td>en</td>\n",
                            "      <td>F.I.S.T.</td>\n",
                            "      <td>Johnny Kovak joins the Teamsters trade-union i...</td>\n",
                            "      <td>3.375208</td>\n",
                            "      <td>[{\"name\": \"United Artists\", \"id\": 60}, {\"name\"...</td>\n",
                            "      <td>[{\"iso_3166_1\": \"US\", \"name\": \"United States o...</td>\n",
                            "      <td>1978-04-26</td>\n",
                            "      <td>11</td>\n",
                            "      <td>145.0</td>\n",
                            "      <td>[{\"iso_639_1\": \"en\", \"name\": \"English\"}]</td>\n",
                            "      <td>Released</td>\n",
                            "      <td>NaN</td>\n",
                            "      <td>F.I.S.T.</td>\n",
                            "      <td>6.4</td>\n",
                            "      <td>29</td>\n",
                            "    </tr>\n",
                            "  </tbody>\n",
                            "</table>\n",
                            "</div>"
                        ],
                        "text/plain": [
                            "        budget                                             genres homepage  \\\n",
                            "4557         0  [{\"id\": 10749, \"name\": \"Romance\"}, {\"id\": 28, ...      NaN   \n",
                            "756   60000000  [{\"id\": 80, \"name\": \"Crime\"}, {\"id\": 35, \"name...      NaN   \n",
                            "2933        11  [{\"id\": 18, \"name\": \"Drama\"}, {\"id\": 28, \"name...      NaN   \n",
                            "\n",
                            "          id                                           keywords  \\\n",
                            "4557  380733  [{\"id\": 6075, \"name\": \"sport\"}, {\"id\": 14955, ...   \n",
                            "756    11775  [{\"id\": 387, \"name\": \"california\"}, {\"id\": 782...   \n",
                            "2933   28932                                                 []   \n",
                            "\n",
                            "     original_language       original_title  \\\n",
                            "4557                en  Fight to the Finish   \n",
                            "756                 en  Intolerable Cruelty   \n",
                            "2933                en             F.I.S.T.   \n",
                            "\n",
                            "                                               overview  popularity  \\\n",
                            "4557  A young amateur fighter makes an enemy with a ...    0.251828   \n",
                            "756   A revenge-seeking gold digger marries a womani...   22.620125   \n",
                            "2933  Johnny Kovak joins the Teamsters trade-union i...    3.375208   \n",
                            "\n",
                            "                                   production_companies  \\\n",
                            "4557  [{\"name\": \"Triple D Productions\", \"id\": 60954}...   \n",
                            "756   [{\"name\": \"Imagine Entertainment\", \"id\": 23}, ...   \n",
                            "2933  [{\"name\": \"United Artists\", \"id\": 60}, {\"name\"...   \n",
                            "\n",
                            "                                   production_countries release_date  \\\n",
                            "4557  [{\"iso_3166_1\": \"US\", \"name\": \"United States o...   2016-02-02   \n",
                            "756   [{\"iso_3166_1\": \"US\", \"name\": \"United States o...   2003-09-02   \n",
                            "2933  [{\"iso_3166_1\": \"US\", \"name\": \"United States o...   1978-04-26   \n",
                            "\n",
                            "        revenue  runtime                                   spoken_languages  \\\n",
                            "4557          0     94.0           [{\"iso_639_1\": \"en\", \"name\": \"English\"}]   \n",
                            "756   119940815    100.0  [{\"iso_639_1\": \"fr\", \"name\": \"Fran\\u00e7ais\"},...   \n",
                            "2933         11    145.0           [{\"iso_639_1\": \"en\", \"name\": \"English\"}]   \n",
                            "\n",
                            "        status                                            tagline  \\\n",
                            "4557  Released                                It's all or nothing   \n",
                            "756   Released  They can't keep their hands off each others as...   \n",
                            "2933  Released                                                NaN   \n",
                            "\n",
                            "                    title  vote_average  vote_count  \n",
                            "4557  Fight to the Finish           5.2           3  \n",
                            "756   Intolerable Cruelty           5.8         391  \n",
                            "2933             F.I.S.T.           6.4          29  "
                        ]
                    },
                    "execution_count": 81,
                    "metadata": {},
                    "output_type": "execute_result"
                }
            ],
            "source": [
                "movies.sample(3)"
            ]
        },
        {
            "cell_type": "code",
            "execution_count": 82,
            "metadata": {},
            "outputs": [
                {
                    "name": "stdout",
                    "output_type": "stream",
                    "text": [
                        "<class 'pandas.core.frame.DataFrame'>\n",
                        "RangeIndex: 4803 entries, 0 to 4802\n",
                        "Data columns (total 20 columns):\n",
                        " #   Column                Non-Null Count  Dtype  \n",
                        "---  ------                --------------  -----  \n",
                        " 0   budget                4803 non-null   int64  \n",
                        " 1   genres                4803 non-null   object \n",
                        " 2   homepage              1712 non-null   object \n",
                        " 3   id                    4803 non-null   int64  \n",
                        " 4   keywords              4803 non-null   object \n",
                        " 5   original_language     4803 non-null   object \n",
                        " 6   original_title        4803 non-null   object \n",
                        " 7   overview              4800 non-null   object \n",
                        " 8   popularity            4803 non-null   float64\n",
                        " 9   production_companies  4803 non-null   object \n",
                        " 10  production_countries  4803 non-null   object \n",
                        " 11  release_date          4802 non-null   object \n",
                        " 12  revenue               4803 non-null   int64  \n",
                        " 13  runtime               4801 non-null   float64\n",
                        " 14  spoken_languages      4803 non-null   object \n",
                        " 15  status                4803 non-null   object \n",
                        " 16  tagline               3959 non-null   object \n",
                        " 17  title                 4803 non-null   object \n",
                        " 18  vote_average          4803 non-null   float64\n",
                        " 19  vote_count            4803 non-null   int64  \n",
                        "dtypes: float64(3), int64(4), object(13)\n",
                        "memory usage: 750.6+ KB\n"
                    ]
                }
            ],
            "source": [
                "movies.info()"
            ]
        },
        {
            "cell_type": "code",
            "execution_count": 83,
            "metadata": {},
            "outputs": [
                {
                    "data": {
                        "text/plain": [
                            "budget                     0\n",
                            "genres                     0\n",
                            "homepage                3091\n",
                            "id                         0\n",
                            "keywords                   0\n",
                            "original_language          0\n",
                            "original_title             0\n",
                            "overview                   3\n",
                            "popularity                 0\n",
                            "production_companies       0\n",
                            "production_countries       0\n",
                            "release_date               1\n",
                            "revenue                    0\n",
                            "runtime                    2\n",
                            "spoken_languages           0\n",
                            "status                     0\n",
                            "tagline                  844\n",
                            "title                      0\n",
                            "vote_average               0\n",
                            "vote_count                 0\n",
                            "dtype: int64"
                        ]
                    },
                    "execution_count": 83,
                    "metadata": {},
                    "output_type": "execute_result"
                }
            ],
            "source": [
                "movies.isnull().sum()"
            ]
        },
        {
            "cell_type": "code",
            "execution_count": 84,
            "metadata": {},
            "outputs": [
                {
                    "data": {
                        "text/html": [
                            "<div>\n",
                            "<style scoped>\n",
                            "    .dataframe tbody tr th:only-of-type {\n",
                            "        vertical-align: middle;\n",
                            "    }\n",
                            "\n",
                            "    .dataframe tbody tr th {\n",
                            "        vertical-align: top;\n",
                            "    }\n",
                            "\n",
                            "    .dataframe thead th {\n",
                            "        text-align: right;\n",
                            "    }\n",
                            "</style>\n",
                            "<table border=\"1\" class=\"dataframe\">\n",
                            "  <thead>\n",
                            "    <tr style=\"text-align: right;\">\n",
                            "      <th></th>\n",
                            "      <th>movie_id</th>\n",
                            "      <th>title</th>\n",
                            "      <th>cast</th>\n",
                            "      <th>crew</th>\n",
                            "    </tr>\n",
                            "  </thead>\n",
                            "  <tbody>\n",
                            "    <tr>\n",
                            "      <th>0</th>\n",
                            "      <td>19995</td>\n",
                            "      <td>Avatar</td>\n",
                            "      <td>[{\"cast_id\": 242, \"character\": \"Jake Sully\", \"...</td>\n",
                            "      <td>[{\"credit_id\": \"52fe48009251416c750aca23\", \"de...</td>\n",
                            "    </tr>\n",
                            "    <tr>\n",
                            "      <th>1</th>\n",
                            "      <td>285</td>\n",
                            "      <td>Pirates of the Caribbean: At World's End</td>\n",
                            "      <td>[{\"cast_id\": 4, \"character\": \"Captain Jack Spa...</td>\n",
                            "      <td>[{\"credit_id\": \"52fe4232c3a36847f800b579\", \"de...</td>\n",
                            "    </tr>\n",
                            "    <tr>\n",
                            "      <th>2</th>\n",
                            "      <td>206647</td>\n",
                            "      <td>Spectre</td>\n",
                            "      <td>[{\"cast_id\": 1, \"character\": \"James Bond\", \"cr...</td>\n",
                            "      <td>[{\"credit_id\": \"54805967c3a36829b5002c41\", \"de...</td>\n",
                            "    </tr>\n",
                            "    <tr>\n",
                            "      <th>3</th>\n",
                            "      <td>49026</td>\n",
                            "      <td>The Dark Knight Rises</td>\n",
                            "      <td>[{\"cast_id\": 2, \"character\": \"Bruce Wayne / Ba...</td>\n",
                            "      <td>[{\"credit_id\": \"52fe4781c3a36847f81398c3\", \"de...</td>\n",
                            "    </tr>\n",
                            "    <tr>\n",
                            "      <th>4</th>\n",
                            "      <td>49529</td>\n",
                            "      <td>John Carter</td>\n",
                            "      <td>[{\"cast_id\": 5, \"character\": \"John Carter\", \"c...</td>\n",
                            "      <td>[{\"credit_id\": \"52fe479ac3a36847f813eaa3\", \"de...</td>\n",
                            "    </tr>\n",
                            "  </tbody>\n",
                            "</table>\n",
                            "</div>"
                        ],
                        "text/plain": [
                            "   movie_id                                     title  \\\n",
                            "0     19995                                    Avatar   \n",
                            "1       285  Pirates of the Caribbean: At World's End   \n",
                            "2    206647                                   Spectre   \n",
                            "3     49026                     The Dark Knight Rises   \n",
                            "4     49529                               John Carter   \n",
                            "\n",
                            "                                                cast  \\\n",
                            "0  [{\"cast_id\": 242, \"character\": \"Jake Sully\", \"...   \n",
                            "1  [{\"cast_id\": 4, \"character\": \"Captain Jack Spa...   \n",
                            "2  [{\"cast_id\": 1, \"character\": \"James Bond\", \"cr...   \n",
                            "3  [{\"cast_id\": 2, \"character\": \"Bruce Wayne / Ba...   \n",
                            "4  [{\"cast_id\": 5, \"character\": \"John Carter\", \"c...   \n",
                            "\n",
                            "                                                crew  \n",
                            "0  [{\"credit_id\": \"52fe48009251416c750aca23\", \"de...  \n",
                            "1  [{\"credit_id\": \"52fe4232c3a36847f800b579\", \"de...  \n",
                            "2  [{\"credit_id\": \"54805967c3a36829b5002c41\", \"de...  \n",
                            "3  [{\"credit_id\": \"52fe4781c3a36847f81398c3\", \"de...  \n",
                            "4  [{\"credit_id\": \"52fe479ac3a36847f813eaa3\", \"de...  "
                        ]
                    },
                    "execution_count": 84,
                    "metadata": {},
                    "output_type": "execute_result"
                }
            ],
            "source": [
                "credits.head()"
            ]
        },
        {
            "cell_type": "code",
            "execution_count": 85,
            "metadata": {},
            "outputs": [
                {
                    "data": {
                        "text/html": [
                            "<div>\n",
                            "<style scoped>\n",
                            "    .dataframe tbody tr th:only-of-type {\n",
                            "        vertical-align: middle;\n",
                            "    }\n",
                            "\n",
                            "    .dataframe tbody tr th {\n",
                            "        vertical-align: top;\n",
                            "    }\n",
                            "\n",
                            "    .dataframe thead th {\n",
                            "        text-align: right;\n",
                            "    }\n",
                            "</style>\n",
                            "<table border=\"1\" class=\"dataframe\">\n",
                            "  <thead>\n",
                            "    <tr style=\"text-align: right;\">\n",
                            "      <th></th>\n",
                            "      <th>movie_id</th>\n",
                            "      <th>title</th>\n",
                            "      <th>cast</th>\n",
                            "      <th>crew</th>\n",
                            "    </tr>\n",
                            "  </thead>\n",
                            "  <tbody>\n",
                            "    <tr>\n",
                            "      <th>4798</th>\n",
                            "      <td>9367</td>\n",
                            "      <td>El Mariachi</td>\n",
                            "      <td>[{\"cast_id\": 1, \"character\": \"El Mariachi\", \"c...</td>\n",
                            "      <td>[{\"credit_id\": \"52fe44eec3a36847f80b280b\", \"de...</td>\n",
                            "    </tr>\n",
                            "    <tr>\n",
                            "      <th>4799</th>\n",
                            "      <td>72766</td>\n",
                            "      <td>Newlyweds</td>\n",
                            "      <td>[{\"cast_id\": 1, \"character\": \"Buzzy\", \"credit_...</td>\n",
                            "      <td>[{\"credit_id\": \"52fe487dc3a368484e0fb013\", \"de...</td>\n",
                            "    </tr>\n",
                            "    <tr>\n",
                            "      <th>4800</th>\n",
                            "      <td>231617</td>\n",
                            "      <td>Signed, Sealed, Delivered</td>\n",
                            "      <td>[{\"cast_id\": 8, \"character\": \"Oliver O\\u2019To...</td>\n",
                            "      <td>[{\"credit_id\": \"52fe4df3c3a36847f8275ecf\", \"de...</td>\n",
                            "    </tr>\n",
                            "    <tr>\n",
                            "      <th>4801</th>\n",
                            "      <td>126186</td>\n",
                            "      <td>Shanghai Calling</td>\n",
                            "      <td>[{\"cast_id\": 3, \"character\": \"Sam\", \"credit_id...</td>\n",
                            "      <td>[{\"credit_id\": \"52fe4ad9c3a368484e16a36b\", \"de...</td>\n",
                            "    </tr>\n",
                            "    <tr>\n",
                            "      <th>4802</th>\n",
                            "      <td>25975</td>\n",
                            "      <td>My Date with Drew</td>\n",
                            "      <td>[{\"cast_id\": 3, \"character\": \"Herself\", \"credi...</td>\n",
                            "      <td>[{\"credit_id\": \"58ce021b9251415a390165d9\", \"de...</td>\n",
                            "    </tr>\n",
                            "  </tbody>\n",
                            "</table>\n",
                            "</div>"
                        ],
                        "text/plain": [
                            "      movie_id                      title  \\\n",
                            "4798      9367                El Mariachi   \n",
                            "4799     72766                  Newlyweds   \n",
                            "4800    231617  Signed, Sealed, Delivered   \n",
                            "4801    126186           Shanghai Calling   \n",
                            "4802     25975          My Date with Drew   \n",
                            "\n",
                            "                                                   cast  \\\n",
                            "4798  [{\"cast_id\": 1, \"character\": \"El Mariachi\", \"c...   \n",
                            "4799  [{\"cast_id\": 1, \"character\": \"Buzzy\", \"credit_...   \n",
                            "4800  [{\"cast_id\": 8, \"character\": \"Oliver O\\u2019To...   \n",
                            "4801  [{\"cast_id\": 3, \"character\": \"Sam\", \"credit_id...   \n",
                            "4802  [{\"cast_id\": 3, \"character\": \"Herself\", \"credi...   \n",
                            "\n",
                            "                                                   crew  \n",
                            "4798  [{\"credit_id\": \"52fe44eec3a36847f80b280b\", \"de...  \n",
                            "4799  [{\"credit_id\": \"52fe487dc3a368484e0fb013\", \"de...  \n",
                            "4800  [{\"credit_id\": \"52fe4df3c3a36847f8275ecf\", \"de...  \n",
                            "4801  [{\"credit_id\": \"52fe4ad9c3a368484e16a36b\", \"de...  \n",
                            "4802  [{\"credit_id\": \"58ce021b9251415a390165d9\", \"de...  "
                        ]
                    },
                    "execution_count": 85,
                    "metadata": {},
                    "output_type": "execute_result"
                }
            ],
            "source": [
                "credits.tail()"
            ]
        },
        {
            "cell_type": "code",
            "execution_count": 86,
            "metadata": {},
            "outputs": [
                {
                    "data": {
                        "text/html": [
                            "<div>\n",
                            "<style scoped>\n",
                            "    .dataframe tbody tr th:only-of-type {\n",
                            "        vertical-align: middle;\n",
                            "    }\n",
                            "\n",
                            "    .dataframe tbody tr th {\n",
                            "        vertical-align: top;\n",
                            "    }\n",
                            "\n",
                            "    .dataframe thead th {\n",
                            "        text-align: right;\n",
                            "    }\n",
                            "</style>\n",
                            "<table border=\"1\" class=\"dataframe\">\n",
                            "  <thead>\n",
                            "    <tr style=\"text-align: right;\">\n",
                            "      <th></th>\n",
                            "      <th>movie_id</th>\n",
                            "      <th>title</th>\n",
                            "      <th>cast</th>\n",
                            "      <th>crew</th>\n",
                            "    </tr>\n",
                            "  </thead>\n",
                            "  <tbody>\n",
                            "    <tr>\n",
                            "      <th>4111</th>\n",
                            "      <td>22617</td>\n",
                            "      <td>Dinner Rush</td>\n",
                            "      <td>[{\"cast_id\": 4, \"character\": \"Louis Cropa\", \"c...</td>\n",
                            "      <td>[{\"credit_id\": \"52fe4448c3a368484e01a66f\", \"de...</td>\n",
                            "    </tr>\n",
                            "    <tr>\n",
                            "      <th>585</th>\n",
                            "      <td>57212</td>\n",
                            "      <td>War Horse</td>\n",
                            "      <td>[{\"cast_id\": 2, \"character\": \"Capt. James Nich...</td>\n",
                            "      <td>[{\"credit_id\": \"52fe4929c3a36847f818c16b\", \"de...</td>\n",
                            "    </tr>\n",
                            "    <tr>\n",
                            "      <th>1825</th>\n",
                            "      <td>12589</td>\n",
                            "      <td>Jimmy Neutron: Boy Genius</td>\n",
                            "      <td>[{\"cast_id\": 1, \"character\": \"James 'Jimmy' Is...</td>\n",
                            "      <td>[{\"credit_id\": \"52fe45029251416c7504887f\", \"de...</td>\n",
                            "    </tr>\n",
                            "    <tr>\n",
                            "      <th>3211</th>\n",
                            "      <td>25196</td>\n",
                            "      <td>Crazy Heart</td>\n",
                            "      <td>[{\"cast_id\": 3, \"character\": \"Bad Blake\", \"cre...</td>\n",
                            "      <td>[{\"credit_id\": \"56178ad79251412af4002292\", \"de...</td>\n",
                            "    </tr>\n",
                            "    <tr>\n",
                            "      <th>2777</th>\n",
                            "      <td>24227</td>\n",
                            "      <td>Excessive Force</td>\n",
                            "      <td>[{\"cast_id\": 1, \"character\": \"Terry McCain\", \"...</td>\n",
                            "      <td>[{\"credit_id\": \"52fe448bc3a368484e028ca3\", \"de...</td>\n",
                            "    </tr>\n",
                            "  </tbody>\n",
                            "</table>\n",
                            "</div>"
                        ],
                        "text/plain": [
                            "      movie_id                      title  \\\n",
                            "4111     22617                Dinner Rush   \n",
                            "585      57212                  War Horse   \n",
                            "1825     12589  Jimmy Neutron: Boy Genius   \n",
                            "3211     25196                Crazy Heart   \n",
                            "2777     24227            Excessive Force   \n",
                            "\n",
                            "                                                   cast  \\\n",
                            "4111  [{\"cast_id\": 4, \"character\": \"Louis Cropa\", \"c...   \n",
                            "585   [{\"cast_id\": 2, \"character\": \"Capt. James Nich...   \n",
                            "1825  [{\"cast_id\": 1, \"character\": \"James 'Jimmy' Is...   \n",
                            "3211  [{\"cast_id\": 3, \"character\": \"Bad Blake\", \"cre...   \n",
                            "2777  [{\"cast_id\": 1, \"character\": \"Terry McCain\", \"...   \n",
                            "\n",
                            "                                                   crew  \n",
                            "4111  [{\"credit_id\": \"52fe4448c3a368484e01a66f\", \"de...  \n",
                            "585   [{\"credit_id\": \"52fe4929c3a36847f818c16b\", \"de...  \n",
                            "1825  [{\"credit_id\": \"52fe45029251416c7504887f\", \"de...  \n",
                            "3211  [{\"credit_id\": \"56178ad79251412af4002292\", \"de...  \n",
                            "2777  [{\"credit_id\": \"52fe448bc3a368484e028ca3\", \"de...  "
                        ]
                    },
                    "execution_count": 86,
                    "metadata": {},
                    "output_type": "execute_result"
                }
            ],
            "source": [
                "credits.sample(5)"
            ]
        },
        {
            "cell_type": "code",
            "execution_count": 87,
            "metadata": {},
            "outputs": [
                {
                    "name": "stdout",
                    "output_type": "stream",
                    "text": [
                        "<class 'pandas.core.frame.DataFrame'>\n",
                        "RangeIndex: 4803 entries, 0 to 4802\n",
                        "Data columns (total 4 columns):\n",
                        " #   Column    Non-Null Count  Dtype \n",
                        "---  ------    --------------  ----- \n",
                        " 0   movie_id  4803 non-null   int64 \n",
                        " 1   title     4803 non-null   object\n",
                        " 2   cast      4803 non-null   object\n",
                        " 3   crew      4803 non-null   object\n",
                        "dtypes: int64(1), object(3)\n",
                        "memory usage: 150.2+ KB\n"
                    ]
                }
            ],
            "source": [
                "credits.info()"
            ]
        },
        {
            "cell_type": "code",
            "execution_count": 88,
            "metadata": {},
            "outputs": [
                {
                    "data": {
                        "text/plain": [
                            "movie_id    0\n",
                            "title       0\n",
                            "cast        0\n",
                            "crew        0\n",
                            "dtype: int64"
                        ]
                    },
                    "execution_count": 88,
                    "metadata": {},
                    "output_type": "execute_result"
                }
            ],
            "source": [
                "credits.isnull().sum()"
            ]
        },
        {
            "cell_type": "markdown",
            "metadata": {},
            "source": [
                "La unica variable en comun es el titulo de la pelicula, sera por esta donde uniremos ambos Dataset"
            ]
        },
        {
            "cell_type": "code",
            "execution_count": 89,
            "metadata": {},
            "outputs": [],
            "source": [
                "movies = movies.merge(credits, on='title')"
            ]
        },
        {
            "cell_type": "code",
            "execution_count": 90,
            "metadata": {},
            "outputs": [
                {
                    "name": "stdout",
                    "output_type": "stream",
                    "text": [
                        "<class 'pandas.core.frame.DataFrame'>\n",
                        "Int64Index: 4809 entries, 0 to 4808\n",
                        "Data columns (total 23 columns):\n",
                        " #   Column                Non-Null Count  Dtype  \n",
                        "---  ------                --------------  -----  \n",
                        " 0   budget                4809 non-null   int64  \n",
                        " 1   genres                4809 non-null   object \n",
                        " 2   homepage              1713 non-null   object \n",
                        " 3   id                    4809 non-null   int64  \n",
                        " 4   keywords              4809 non-null   object \n",
                        " 5   original_language     4809 non-null   object \n",
                        " 6   original_title        4809 non-null   object \n",
                        " 7   overview              4806 non-null   object \n",
                        " 8   popularity            4809 non-null   float64\n",
                        " 9   production_companies  4809 non-null   object \n",
                        " 10  production_countries  4809 non-null   object \n",
                        " 11  release_date          4808 non-null   object \n",
                        " 12  revenue               4809 non-null   int64  \n",
                        " 13  runtime               4807 non-null   float64\n",
                        " 14  spoken_languages      4809 non-null   object \n",
                        " 15  status                4809 non-null   object \n",
                        " 16  tagline               3965 non-null   object \n",
                        " 17  title                 4809 non-null   object \n",
                        " 18  vote_average          4809 non-null   float64\n",
                        " 19  vote_count            4809 non-null   int64  \n",
                        " 20  movie_id              4809 non-null   int64  \n",
                        " 21  cast                  4809 non-null   object \n",
                        " 22  crew                  4809 non-null   object \n",
                        "dtypes: float64(3), int64(5), object(15)\n",
                        "memory usage: 901.7+ KB\n"
                    ]
                }
            ],
            "source": [
                "movies.info()"
            ]
        },
        {
            "cell_type": "code",
            "execution_count": 91,
            "metadata": {},
            "outputs": [
                {
                    "data": {
                        "text/html": [
                            "<div>\n",
                            "<style scoped>\n",
                            "    .dataframe tbody tr th:only-of-type {\n",
                            "        vertical-align: middle;\n",
                            "    }\n",
                            "\n",
                            "    .dataframe tbody tr th {\n",
                            "        vertical-align: top;\n",
                            "    }\n",
                            "\n",
                            "    .dataframe thead th {\n",
                            "        text-align: right;\n",
                            "    }\n",
                            "</style>\n",
                            "<table border=\"1\" class=\"dataframe\">\n",
                            "  <thead>\n",
                            "    <tr style=\"text-align: right;\">\n",
                            "      <th></th>\n",
                            "      <th>budget</th>\n",
                            "      <th>genres</th>\n",
                            "      <th>homepage</th>\n",
                            "      <th>id</th>\n",
                            "      <th>keywords</th>\n",
                            "      <th>original_language</th>\n",
                            "      <th>original_title</th>\n",
                            "      <th>overview</th>\n",
                            "      <th>popularity</th>\n",
                            "      <th>production_companies</th>\n",
                            "      <th>...</th>\n",
                            "      <th>runtime</th>\n",
                            "      <th>spoken_languages</th>\n",
                            "      <th>status</th>\n",
                            "      <th>tagline</th>\n",
                            "      <th>title</th>\n",
                            "      <th>vote_average</th>\n",
                            "      <th>vote_count</th>\n",
                            "      <th>movie_id</th>\n",
                            "      <th>cast</th>\n",
                            "      <th>crew</th>\n",
                            "    </tr>\n",
                            "  </thead>\n",
                            "  <tbody>\n",
                            "    <tr>\n",
                            "      <th>1332</th>\n",
                            "      <td>40000000</td>\n",
                            "      <td>[{\"id\": 10749, \"name\": \"Romance\"}, {\"id\": 35, ...</td>\n",
                            "      <td>http://whattoexpectthefilm.com/</td>\n",
                            "      <td>76494</td>\n",
                            "      <td>[{\"id\": 818, \"name\": \"based on novel\"}, {\"id\":...</td>\n",
                            "      <td>en</td>\n",
                            "      <td>What to Expect When You're Expecting</td>\n",
                            "      <td>Challenges of impending parenthood turn the li...</td>\n",
                            "      <td>27.009723</td>\n",
                            "      <td>[{\"name\": \"Alcon Entertainment\", \"id\": 1088}, ...</td>\n",
                            "      <td>...</td>\n",
                            "      <td>110.0</td>\n",
                            "      <td>[{\"iso_639_1\": \"en\", \"name\": \"English\"}]</td>\n",
                            "      <td>Released</td>\n",
                            "      <td>It's too late to pull out now.</td>\n",
                            "      <td>What to Expect When You're Expecting</td>\n",
                            "      <td>5.8</td>\n",
                            "      <td>594</td>\n",
                            "      <td>76494</td>\n",
                            "      <td>[{\"cast_id\": 3, \"character\": \"Jules Baxter\", \"...</td>\n",
                            "      <td>[{\"credit_id\": \"55c0c93bc3a3682379001cc3\", \"de...</td>\n",
                            "    </tr>\n",
                            "    <tr>\n",
                            "      <th>2703</th>\n",
                            "      <td>0</td>\n",
                            "      <td>[{\"id\": 36, \"name\": \"History\"}, {\"id\": 18, \"na...</td>\n",
                            "      <td>NaN</td>\n",
                            "      <td>10741</td>\n",
                            "      <td>[{\"id\": 612, \"name\": \"hotel\"}, {\"id\": 2944, \"n...</td>\n",
                            "      <td>en</td>\n",
                            "      <td>Bobby</td>\n",
                            "      <td>In 1968 the lives of a retired doorman, hotel ...</td>\n",
                            "      <td>11.706309</td>\n",
                            "      <td>[{\"name\": \"The Weinstein Company\", \"id\": 308},...</td>\n",
                            "      <td>...</td>\n",
                            "      <td>120.0</td>\n",
                            "      <td>[{\"iso_639_1\": \"en\", \"name\": \"English\"}, {\"iso...</td>\n",
                            "      <td>Released</td>\n",
                            "      <td>He saw wrong and tried to right it. He saw suf...</td>\n",
                            "      <td>Bobby</td>\n",
                            "      <td>6.4</td>\n",
                            "      <td>119</td>\n",
                            "      <td>10741</td>\n",
                            "      <td>[{\"cast_id\": 7, \"character\": \"John Casey\", \"cr...</td>\n",
                            "      <td>[{\"credit_id\": \"52fe43ad9251416c75019bad\", \"de...</td>\n",
                            "    </tr>\n",
                            "  </tbody>\n",
                            "</table>\n",
                            "<p>2 rows × 23 columns</p>\n",
                            "</div>"
                        ],
                        "text/plain": [
                            "        budget                                             genres  \\\n",
                            "1332  40000000  [{\"id\": 10749, \"name\": \"Romance\"}, {\"id\": 35, ...   \n",
                            "2703         0  [{\"id\": 36, \"name\": \"History\"}, {\"id\": 18, \"na...   \n",
                            "\n",
                            "                             homepage     id  \\\n",
                            "1332  http://whattoexpectthefilm.com/  76494   \n",
                            "2703                              NaN  10741   \n",
                            "\n",
                            "                                               keywords original_language  \\\n",
                            "1332  [{\"id\": 818, \"name\": \"based on novel\"}, {\"id\":...                en   \n",
                            "2703  [{\"id\": 612, \"name\": \"hotel\"}, {\"id\": 2944, \"n...                en   \n",
                            "\n",
                            "                            original_title  \\\n",
                            "1332  What to Expect When You're Expecting   \n",
                            "2703                                 Bobby   \n",
                            "\n",
                            "                                               overview  popularity  \\\n",
                            "1332  Challenges of impending parenthood turn the li...   27.009723   \n",
                            "2703  In 1968 the lives of a retired doorman, hotel ...   11.706309   \n",
                            "\n",
                            "                                   production_companies  ... runtime  \\\n",
                            "1332  [{\"name\": \"Alcon Entertainment\", \"id\": 1088}, ...  ...   110.0   \n",
                            "2703  [{\"name\": \"The Weinstein Company\", \"id\": 308},...  ...   120.0   \n",
                            "\n",
                            "                                       spoken_languages    status  \\\n",
                            "1332           [{\"iso_639_1\": \"en\", \"name\": \"English\"}]  Released   \n",
                            "2703  [{\"iso_639_1\": \"en\", \"name\": \"English\"}, {\"iso...  Released   \n",
                            "\n",
                            "                                                tagline  \\\n",
                            "1332                     It's too late to pull out now.   \n",
                            "2703  He saw wrong and tried to right it. He saw suf...   \n",
                            "\n",
                            "                                     title vote_average vote_count movie_id  \\\n",
                            "1332  What to Expect When You're Expecting          5.8        594    76494   \n",
                            "2703                                 Bobby          6.4        119    10741   \n",
                            "\n",
                            "                                                   cast  \\\n",
                            "1332  [{\"cast_id\": 3, \"character\": \"Jules Baxter\", \"...   \n",
                            "2703  [{\"cast_id\": 7, \"character\": \"John Casey\", \"cr...   \n",
                            "\n",
                            "                                                   crew  \n",
                            "1332  [{\"credit_id\": \"55c0c93bc3a3682379001cc3\", \"de...  \n",
                            "2703  [{\"credit_id\": \"52fe43ad9251416c75019bad\", \"de...  \n",
                            "\n",
                            "[2 rows x 23 columns]"
                        ]
                    },
                    "execution_count": 91,
                    "metadata": {},
                    "output_type": "execute_result"
                }
            ],
            "source": [
                "movies.sample(2)"
            ]
        },
        {
            "cell_type": "markdown",
            "metadata": {},
            "source": [
                "Ahora seleccionaremos las columnas con las que trabajaremos las cuales son: a) el id de la pelicula, el titulo, comentarios, popularidad, voto promedio, genero, palabras claves, emision, creditos del equipo."
            ]
        },
        {
            "cell_type": "code",
            "execution_count": 92,
            "metadata": {},
            "outputs": [],
            "source": [
                "movies = movies[['movie_id','title','overview','popularity','vote_average','genres','keywords','cast','crew']]"
            ]
        },
        {
            "cell_type": "code",
            "execution_count": 93,
            "metadata": {},
            "outputs": [
                {
                    "data": {
                        "text/html": [
                            "<div>\n",
                            "<style scoped>\n",
                            "    .dataframe tbody tr th:only-of-type {\n",
                            "        vertical-align: middle;\n",
                            "    }\n",
                            "\n",
                            "    .dataframe tbody tr th {\n",
                            "        vertical-align: top;\n",
                            "    }\n",
                            "\n",
                            "    .dataframe thead th {\n",
                            "        text-align: right;\n",
                            "    }\n",
                            "</style>\n",
                            "<table border=\"1\" class=\"dataframe\">\n",
                            "  <thead>\n",
                            "    <tr style=\"text-align: right;\">\n",
                            "      <th></th>\n",
                            "      <th>movie_id</th>\n",
                            "      <th>title</th>\n",
                            "      <th>overview</th>\n",
                            "      <th>popularity</th>\n",
                            "      <th>vote_average</th>\n",
                            "      <th>genres</th>\n",
                            "      <th>keywords</th>\n",
                            "      <th>cast</th>\n",
                            "      <th>crew</th>\n",
                            "    </tr>\n",
                            "  </thead>\n",
                            "  <tbody>\n",
                            "    <tr>\n",
                            "      <th>715</th>\n",
                            "      <td>9334</td>\n",
                            "      <td>The Scorpion King</td>\n",
                            "      <td>In ancient Egypt, peasant Mathayus is hired to...</td>\n",
                            "      <td>37.537093</td>\n",
                            "      <td>5.3</td>\n",
                            "      <td>[{\"id\": 28, \"name\": \"Action\"}, {\"id\": 14, \"nam...</td>\n",
                            "      <td>[{\"id\": 1160, \"name\": \"egypt\"}, {\"id\": 1530, \"...</td>\n",
                            "      <td>[{\"cast_id\": 20, \"character\": \"Mathayus\", \"cre...</td>\n",
                            "      <td>[{\"credit_id\": \"536cb2dcc3a368122000b233\", \"de...</td>\n",
                            "    </tr>\n",
                            "    <tr>\n",
                            "      <th>102</th>\n",
                            "      <td>131634</td>\n",
                            "      <td>The Hunger Games: Mockingjay - Part 2</td>\n",
                            "      <td>With the nation of Panem in a full scale war, ...</td>\n",
                            "      <td>127.284427</td>\n",
                            "      <td>6.6</td>\n",
                            "      <td>[{\"id\": 28, \"name\": \"Action\"}, {\"id\": 12, \"nam...</td>\n",
                            "      <td>[{\"id\": 2020, \"name\": \"revolution\"}, {\"id\": 26...</td>\n",
                            "      <td>[{\"cast_id\": 2, \"character\": \"Katniss Everdeen...</td>\n",
                            "      <td>[{\"credit_id\": \"551e57929251411d8d00029a\", \"de...</td>\n",
                            "    </tr>\n",
                            "    <tr>\n",
                            "      <th>2252</th>\n",
                            "      <td>4960</td>\n",
                            "      <td>Synecdoche, New York</td>\n",
                            "      <td>A theater director struggles with his work, an...</td>\n",
                            "      <td>12.761176</td>\n",
                            "      <td>7.4</td>\n",
                            "      <td>[{\"id\": 18, \"name\": \"Drama\"}]</td>\n",
                            "      <td>[{\"id\": 242, \"name\": \"new york\"}, {\"id\": 5756,...</td>\n",
                            "      <td>[{\"cast_id\": 3, \"character\": \"Caden Cotard\", \"...</td>\n",
                            "      <td>[{\"credit_id\": \"52fe43e8c3a36847f80777e3\", \"de...</td>\n",
                            "    </tr>\n",
                            "    <tr>\n",
                            "      <th>2429</th>\n",
                            "      <td>26602</td>\n",
                            "      <td>Summer Catch</td>\n",
                            "      <td>A coming-of-age romantic comedy set against th...</td>\n",
                            "      <td>3.960098</td>\n",
                            "      <td>4.8</td>\n",
                            "      <td>[{\"id\": 18, \"name\": \"Drama\"}, {\"id\": 35, \"name...</td>\n",
                            "      <td>[{\"id\": 966, \"name\": \"beach\"}, {\"id\": 1480, \"n...</td>\n",
                            "      <td>[{\"cast_id\": 1, \"character\": \"Ryan Dunne\", \"cr...</td>\n",
                            "      <td>[{\"credit_id\": \"52fe450ec3a368484e045d67\", \"de...</td>\n",
                            "    </tr>\n",
                            "    <tr>\n",
                            "      <th>737</th>\n",
                            "      <td>137094</td>\n",
                            "      <td>Jack Ryan: Shadow Recruit</td>\n",
                            "      <td>Jack Ryan, as a young covert CIA analyst, unco...</td>\n",
                            "      <td>42.538258</td>\n",
                            "      <td>5.9</td>\n",
                            "      <td>[{\"id\": 28, \"name\": \"Action\"}, {\"id\": 18, \"nam...</td>\n",
                            "      <td>[{\"id\": 212, \"name\": \"london england\"}, {\"id\":...</td>\n",
                            "      <td>[{\"cast_id\": 14, \"character\": \"Jack Ryan\", \"cr...</td>\n",
                            "      <td>[{\"credit_id\": \"53902dad0e0a2643fc0007a5\", \"de...</td>\n",
                            "    </tr>\n",
                            "  </tbody>\n",
                            "</table>\n",
                            "</div>"
                        ],
                        "text/plain": [
                            "      movie_id                                  title  \\\n",
                            "715       9334                      The Scorpion King   \n",
                            "102     131634  The Hunger Games: Mockingjay - Part 2   \n",
                            "2252      4960                   Synecdoche, New York   \n",
                            "2429     26602                           Summer Catch   \n",
                            "737     137094              Jack Ryan: Shadow Recruit   \n",
                            "\n",
                            "                                               overview  popularity  \\\n",
                            "715   In ancient Egypt, peasant Mathayus is hired to...   37.537093   \n",
                            "102   With the nation of Panem in a full scale war, ...  127.284427   \n",
                            "2252  A theater director struggles with his work, an...   12.761176   \n",
                            "2429  A coming-of-age romantic comedy set against th...    3.960098   \n",
                            "737   Jack Ryan, as a young covert CIA analyst, unco...   42.538258   \n",
                            "\n",
                            "      vote_average                                             genres  \\\n",
                            "715            5.3  [{\"id\": 28, \"name\": \"Action\"}, {\"id\": 14, \"nam...   \n",
                            "102            6.6  [{\"id\": 28, \"name\": \"Action\"}, {\"id\": 12, \"nam...   \n",
                            "2252           7.4                      [{\"id\": 18, \"name\": \"Drama\"}]   \n",
                            "2429           4.8  [{\"id\": 18, \"name\": \"Drama\"}, {\"id\": 35, \"name...   \n",
                            "737            5.9  [{\"id\": 28, \"name\": \"Action\"}, {\"id\": 18, \"nam...   \n",
                            "\n",
                            "                                               keywords  \\\n",
                            "715   [{\"id\": 1160, \"name\": \"egypt\"}, {\"id\": 1530, \"...   \n",
                            "102   [{\"id\": 2020, \"name\": \"revolution\"}, {\"id\": 26...   \n",
                            "2252  [{\"id\": 242, \"name\": \"new york\"}, {\"id\": 5756,...   \n",
                            "2429  [{\"id\": 966, \"name\": \"beach\"}, {\"id\": 1480, \"n...   \n",
                            "737   [{\"id\": 212, \"name\": \"london england\"}, {\"id\":...   \n",
                            "\n",
                            "                                                   cast  \\\n",
                            "715   [{\"cast_id\": 20, \"character\": \"Mathayus\", \"cre...   \n",
                            "102   [{\"cast_id\": 2, \"character\": \"Katniss Everdeen...   \n",
                            "2252  [{\"cast_id\": 3, \"character\": \"Caden Cotard\", \"...   \n",
                            "2429  [{\"cast_id\": 1, \"character\": \"Ryan Dunne\", \"cr...   \n",
                            "737   [{\"cast_id\": 14, \"character\": \"Jack Ryan\", \"cr...   \n",
                            "\n",
                            "                                                   crew  \n",
                            "715   [{\"credit_id\": \"536cb2dcc3a368122000b233\", \"de...  \n",
                            "102   [{\"credit_id\": \"551e57929251411d8d00029a\", \"de...  \n",
                            "2252  [{\"credit_id\": \"52fe43e8c3a36847f80777e3\", \"de...  \n",
                            "2429  [{\"credit_id\": \"52fe450ec3a368484e045d67\", \"de...  \n",
                            "737   [{\"credit_id\": \"53902dad0e0a2643fc0007a5\", \"de...  "
                        ]
                    },
                    "execution_count": 93,
                    "metadata": {},
                    "output_type": "execute_result"
                }
            ],
            "source": [
                "movies.sample(5)"
            ]
        },
        {
            "cell_type": "code",
            "execution_count": 94,
            "metadata": {},
            "outputs": [
                {
                    "data": {
                        "text/plain": [
                            "movie_id        0\n",
                            "title           0\n",
                            "overview        3\n",
                            "popularity      0\n",
                            "vote_average    0\n",
                            "genres          0\n",
                            "keywords        0\n",
                            "cast            0\n",
                            "crew            0\n",
                            "dtype: int64"
                        ]
                    },
                    "execution_count": 94,
                    "metadata": {},
                    "output_type": "execute_result"
                }
            ],
            "source": [
                "movies.isnull().sum()"
            ]
        },
        {
            "cell_type": "code",
            "execution_count": 95,
            "metadata": {},
            "outputs": [],
            "source": [
                "movies.dropna(inplace = True)"
            ]
        },
        {
            "cell_type": "code",
            "execution_count": 96,
            "metadata": {},
            "outputs": [
                {
                    "data": {
                        "text/plain": [
                            "movie_id        0\n",
                            "title           0\n",
                            "overview        0\n",
                            "popularity      0\n",
                            "vote_average    0\n",
                            "genres          0\n",
                            "keywords        0\n",
                            "cast            0\n",
                            "crew            0\n",
                            "dtype: int64"
                        ]
                    },
                    "execution_count": 96,
                    "metadata": {},
                    "output_type": "execute_result"
                }
            ],
            "source": [
                "movies.isnull().sum()"
            ]
        },
        {
            "cell_type": "code",
            "execution_count": 97,
            "metadata": {},
            "outputs": [
                {
                    "data": {
                        "text/plain": [
                            "(4806, 9)"
                        ]
                    },
                    "execution_count": 97,
                    "metadata": {},
                    "output_type": "execute_result"
                }
            ],
            "source": [
                "movies.shape"
            ]
        },
        {
            "cell_type": "markdown",
            "metadata": {},
            "source": [
                "El Dataset esta escrito en un formato JSON, veremos la info de la columna genero, y keywords, es decir las categorias internas"
            ]
        },
        {
            "cell_type": "code",
            "execution_count": 98,
            "metadata": {},
            "outputs": [
                {
                    "data": {
                        "text/plain": [
                            "'[{\"id\": 28, \"name\": \"Action\"}, {\"id\": 12, \"name\": \"Adventure\"}, {\"id\": 14, \"name\": \"Fantasy\"}, {\"id\": 878, \"name\": \"Science Fiction\"}]'"
                        ]
                    },
                    "execution_count": 98,
                    "metadata": {},
                    "output_type": "execute_result"
                }
            ],
            "source": [
                "#Genero\n",
                "movies.iloc[0].genres"
            ]
        },
        {
            "cell_type": "code",
            "execution_count": 99,
            "metadata": {},
            "outputs": [
                {
                    "data": {
                        "text/plain": [
                            "'[{\"id\": 1463, \"name\": \"culture clash\"}, {\"id\": 2964, \"name\": \"future\"}, {\"id\": 3386, \"name\": \"space war\"}, {\"id\": 3388, \"name\": \"space colony\"}, {\"id\": 3679, \"name\": \"society\"}, {\"id\": 3801, \"name\": \"space travel\"}, {\"id\": 9685, \"name\": \"futuristic\"}, {\"id\": 9840, \"name\": \"romance\"}, {\"id\": 9882, \"name\": \"space\"}, {\"id\": 9951, \"name\": \"alien\"}, {\"id\": 10148, \"name\": \"tribe\"}, {\"id\": 10158, \"name\": \"alien planet\"}, {\"id\": 10987, \"name\": \"cgi\"}, {\"id\": 11399, \"name\": \"marine\"}, {\"id\": 13065, \"name\": \"soldier\"}, {\"id\": 14643, \"name\": \"battle\"}, {\"id\": 14720, \"name\": \"love affair\"}, {\"id\": 165431, \"name\": \"anti war\"}, {\"id\": 193554, \"name\": \"power relations\"}, {\"id\": 206690, \"name\": \"mind and soul\"}, {\"id\": 209714, \"name\": \"3d\"}]'"
                        ]
                    },
                    "execution_count": 99,
                    "metadata": {},
                    "output_type": "execute_result"
                }
            ],
            "source": [
                "# Palabras claves asociadas a la Peli, podemos ver futuro, space war, society, funcionan como claves para la busqueda en la red\n",
                "movies.iloc[0].keywords"
            ]
        },
        {
            "cell_type": "markdown",
            "metadata": {},
            "source": [
                "Comenzaremos a convertir estas columnas usando una función para obtener solo los géneros, sin formato json. Solo estamos interesados ​​en los valores de las claves de 'nombre'. repetiremos el procedimiento para la columna keywords"
            ]
        },
        {
            "cell_type": "code",
            "execution_count": 100,
            "metadata": {},
            "outputs": [],
            "source": [
                "import ast\n",
                "\n",
                "def convert(obj):\n",
                "    L = []\n",
                "    for i in ast.literal_eval(obj):\n",
                "        L.append(i['name'])\n",
                "    return L"
            ]
        },
        {
            "cell_type": "code",
            "execution_count": 101,
            "metadata": {},
            "outputs": [],
            "source": [
                "movies.dropna(inplace = True)"
            ]
        },
        {
            "cell_type": "code",
            "execution_count": 102,
            "metadata": {},
            "outputs": [
                {
                    "data": {
                        "text/html": [
                            "<div>\n",
                            "<style scoped>\n",
                            "    .dataframe tbody tr th:only-of-type {\n",
                            "        vertical-align: middle;\n",
                            "    }\n",
                            "\n",
                            "    .dataframe tbody tr th {\n",
                            "        vertical-align: top;\n",
                            "    }\n",
                            "\n",
                            "    .dataframe thead th {\n",
                            "        text-align: right;\n",
                            "    }\n",
                            "</style>\n",
                            "<table border=\"1\" class=\"dataframe\">\n",
                            "  <thead>\n",
                            "    <tr style=\"text-align: right;\">\n",
                            "      <th></th>\n",
                            "      <th>movie_id</th>\n",
                            "      <th>title</th>\n",
                            "      <th>overview</th>\n",
                            "      <th>popularity</th>\n",
                            "      <th>vote_average</th>\n",
                            "      <th>genres</th>\n",
                            "      <th>keywords</th>\n",
                            "      <th>cast</th>\n",
                            "      <th>crew</th>\n",
                            "    </tr>\n",
                            "  </thead>\n",
                            "  <tbody>\n",
                            "    <tr>\n",
                            "      <th>0</th>\n",
                            "      <td>19995</td>\n",
                            "      <td>Avatar</td>\n",
                            "      <td>In the 22nd century, a paraplegic Marine is di...</td>\n",
                            "      <td>150.437577</td>\n",
                            "      <td>7.2</td>\n",
                            "      <td>[Action, Adventure, Fantasy, Science Fiction]</td>\n",
                            "      <td>[culture clash, future, space war, space colon...</td>\n",
                            "      <td>[{\"cast_id\": 242, \"character\": \"Jake Sully\", \"...</td>\n",
                            "      <td>[{\"credit_id\": \"52fe48009251416c750aca23\", \"de...</td>\n",
                            "    </tr>\n",
                            "    <tr>\n",
                            "      <th>1</th>\n",
                            "      <td>285</td>\n",
                            "      <td>Pirates of the Caribbean: At World's End</td>\n",
                            "      <td>Captain Barbossa, long believed to be dead, ha...</td>\n",
                            "      <td>139.082615</td>\n",
                            "      <td>6.9</td>\n",
                            "      <td>[Adventure, Fantasy, Action]</td>\n",
                            "      <td>[ocean, drug abuse, exotic island, east india ...</td>\n",
                            "      <td>[{\"cast_id\": 4, \"character\": \"Captain Jack Spa...</td>\n",
                            "      <td>[{\"credit_id\": \"52fe4232c3a36847f800b579\", \"de...</td>\n",
                            "    </tr>\n",
                            "    <tr>\n",
                            "      <th>2</th>\n",
                            "      <td>206647</td>\n",
                            "      <td>Spectre</td>\n",
                            "      <td>A cryptic message from Bond’s past sends him o...</td>\n",
                            "      <td>107.376788</td>\n",
                            "      <td>6.3</td>\n",
                            "      <td>[Action, Adventure, Crime]</td>\n",
                            "      <td>[spy, based on novel, secret agent, sequel, mi...</td>\n",
                            "      <td>[{\"cast_id\": 1, \"character\": \"James Bond\", \"cr...</td>\n",
                            "      <td>[{\"credit_id\": \"54805967c3a36829b5002c41\", \"de...</td>\n",
                            "    </tr>\n",
                            "    <tr>\n",
                            "      <th>3</th>\n",
                            "      <td>49026</td>\n",
                            "      <td>The Dark Knight Rises</td>\n",
                            "      <td>Following the death of District Attorney Harve...</td>\n",
                            "      <td>112.312950</td>\n",
                            "      <td>7.6</td>\n",
                            "      <td>[Action, Crime, Drama, Thriller]</td>\n",
                            "      <td>[dc comics, crime fighter, terrorist, secret i...</td>\n",
                            "      <td>[{\"cast_id\": 2, \"character\": \"Bruce Wayne / Ba...</td>\n",
                            "      <td>[{\"credit_id\": \"52fe4781c3a36847f81398c3\", \"de...</td>\n",
                            "    </tr>\n",
                            "    <tr>\n",
                            "      <th>4</th>\n",
                            "      <td>49529</td>\n",
                            "      <td>John Carter</td>\n",
                            "      <td>John Carter is a war-weary, former military ca...</td>\n",
                            "      <td>43.926995</td>\n",
                            "      <td>6.1</td>\n",
                            "      <td>[Action, Adventure, Science Fiction]</td>\n",
                            "      <td>[based on novel, mars, medallion, space travel...</td>\n",
                            "      <td>[{\"cast_id\": 5, \"character\": \"John Carter\", \"c...</td>\n",
                            "      <td>[{\"credit_id\": \"52fe479ac3a36847f813eaa3\", \"de...</td>\n",
                            "    </tr>\n",
                            "  </tbody>\n",
                            "</table>\n",
                            "</div>"
                        ],
                        "text/plain": [
                            "   movie_id                                     title  \\\n",
                            "0     19995                                    Avatar   \n",
                            "1       285  Pirates of the Caribbean: At World's End   \n",
                            "2    206647                                   Spectre   \n",
                            "3     49026                     The Dark Knight Rises   \n",
                            "4     49529                               John Carter   \n",
                            "\n",
                            "                                            overview  popularity  \\\n",
                            "0  In the 22nd century, a paraplegic Marine is di...  150.437577   \n",
                            "1  Captain Barbossa, long believed to be dead, ha...  139.082615   \n",
                            "2  A cryptic message from Bond’s past sends him o...  107.376788   \n",
                            "3  Following the death of District Attorney Harve...  112.312950   \n",
                            "4  John Carter is a war-weary, former military ca...   43.926995   \n",
                            "\n",
                            "   vote_average                                         genres  \\\n",
                            "0           7.2  [Action, Adventure, Fantasy, Science Fiction]   \n",
                            "1           6.9                   [Adventure, Fantasy, Action]   \n",
                            "2           6.3                     [Action, Adventure, Crime]   \n",
                            "3           7.6               [Action, Crime, Drama, Thriller]   \n",
                            "4           6.1           [Action, Adventure, Science Fiction]   \n",
                            "\n",
                            "                                            keywords  \\\n",
                            "0  [culture clash, future, space war, space colon...   \n",
                            "1  [ocean, drug abuse, exotic island, east india ...   \n",
                            "2  [spy, based on novel, secret agent, sequel, mi...   \n",
                            "3  [dc comics, crime fighter, terrorist, secret i...   \n",
                            "4  [based on novel, mars, medallion, space travel...   \n",
                            "\n",
                            "                                                cast  \\\n",
                            "0  [{\"cast_id\": 242, \"character\": \"Jake Sully\", \"...   \n",
                            "1  [{\"cast_id\": 4, \"character\": \"Captain Jack Spa...   \n",
                            "2  [{\"cast_id\": 1, \"character\": \"James Bond\", \"cr...   \n",
                            "3  [{\"cast_id\": 2, \"character\": \"Bruce Wayne / Ba...   \n",
                            "4  [{\"cast_id\": 5, \"character\": \"John Carter\", \"c...   \n",
                            "\n",
                            "                                                crew  \n",
                            "0  [{\"credit_id\": \"52fe48009251416c750aca23\", \"de...  \n",
                            "1  [{\"credit_id\": \"52fe4232c3a36847f800b579\", \"de...  \n",
                            "2  [{\"credit_id\": \"54805967c3a36829b5002c41\", \"de...  \n",
                            "3  [{\"credit_id\": \"52fe4781c3a36847f81398c3\", \"de...  \n",
                            "4  [{\"credit_id\": \"52fe479ac3a36847f813eaa3\", \"de...  "
                        ]
                    },
                    "execution_count": 102,
                    "metadata": {},
                    "output_type": "execute_result"
                }
            ],
            "source": [
                "movies['genres'] = movies['genres'].apply(convert)\n",
                "movies['keywords'] = movies['keywords'].apply(convert)\n",
                "movies.head()\n"
            ]
        },
        {
            "cell_type": "code",
            "execution_count": 103,
            "metadata": {},
            "outputs": [
                {
                    "data": {
                        "text/plain": [
                            "['Action', 'Adventure', 'Fantasy', 'Science Fiction']"
                        ]
                    },
                    "execution_count": 103,
                    "metadata": {},
                    "output_type": "execute_result"
                }
            ],
            "source": [
                "movies.iloc[0].genres"
            ]
        },
        {
            "cell_type": "code",
            "execution_count": 104,
            "metadata": {},
            "outputs": [
                {
                    "data": {
                        "text/plain": [
                            "['culture clash',\n",
                            " 'future',\n",
                            " 'space war',\n",
                            " 'space colony',\n",
                            " 'society',\n",
                            " 'space travel',\n",
                            " 'futuristic',\n",
                            " 'romance',\n",
                            " 'space',\n",
                            " 'alien',\n",
                            " 'tribe',\n",
                            " 'alien planet',\n",
                            " 'cgi',\n",
                            " 'marine',\n",
                            " 'soldier',\n",
                            " 'battle',\n",
                            " 'love affair',\n",
                            " 'anti war',\n",
                            " 'power relations',\n",
                            " 'mind and soul',\n",
                            " '3d']"
                        ]
                    },
                    "execution_count": 104,
                    "metadata": {},
                    "output_type": "execute_result"
                }
            ],
            "source": [
                "movies.iloc[0].keywords"
            ]
        },
        {
            "cell_type": "markdown",
            "metadata": {},
            "source": [
                "Para la columna 'cast' crearemos una función nueva pero similar. Esta vez limitaremos el número de artículos a tres."
            ]
        },
        {
            "cell_type": "code",
            "execution_count": 105,
            "metadata": {},
            "outputs": [],
            "source": [
                "def convert3(obj):\n",
                "    L = []\n",
                "    count = 0\n",
                "    for i in ast.literal_eval(obj):\n",
                "        if count < 3:\n",
                "            L.append(i['name'])\n",
                "        count +=1  \n",
                "    return L"
            ]
        },
        {
            "cell_type": "code",
            "execution_count": 106,
            "metadata": {},
            "outputs": [],
            "source": [
                "movies['cast'] = movies['cast'].apply(convert3)"
            ]
        },
        {
            "cell_type": "code",
            "execution_count": 107,
            "metadata": {},
            "outputs": [
                {
                    "data": {
                        "text/html": [
                            "<div>\n",
                            "<style scoped>\n",
                            "    .dataframe tbody tr th:only-of-type {\n",
                            "        vertical-align: middle;\n",
                            "    }\n",
                            "\n",
                            "    .dataframe tbody tr th {\n",
                            "        vertical-align: top;\n",
                            "    }\n",
                            "\n",
                            "    .dataframe thead th {\n",
                            "        text-align: right;\n",
                            "    }\n",
                            "</style>\n",
                            "<table border=\"1\" class=\"dataframe\">\n",
                            "  <thead>\n",
                            "    <tr style=\"text-align: right;\">\n",
                            "      <th></th>\n",
                            "      <th>movie_id</th>\n",
                            "      <th>title</th>\n",
                            "      <th>overview</th>\n",
                            "      <th>popularity</th>\n",
                            "      <th>vote_average</th>\n",
                            "      <th>genres</th>\n",
                            "      <th>keywords</th>\n",
                            "      <th>cast</th>\n",
                            "      <th>crew</th>\n",
                            "    </tr>\n",
                            "  </thead>\n",
                            "  <tbody>\n",
                            "    <tr>\n",
                            "      <th>129</th>\n",
                            "      <td>10195</td>\n",
                            "      <td>Thor</td>\n",
                            "      <td>Against his father Odin's will, The Mighty Tho...</td>\n",
                            "      <td>86.493424</td>\n",
                            "      <td>6.6</td>\n",
                            "      <td>[Adventure, Fantasy, Action]</td>\n",
                            "      <td>[new mexico, banishment, shield, marvel comic,...</td>\n",
                            "      <td>[Chris Hemsworth, Natalie Portman, Tom Hiddles...</td>\n",
                            "      <td>[{\"credit_id\": \"52fe433f9251416c7500923d\", \"de...</td>\n",
                            "    </tr>\n",
                            "  </tbody>\n",
                            "</table>\n",
                            "</div>"
                        ],
                        "text/plain": [
                            "     movie_id title                                           overview  \\\n",
                            "129     10195  Thor  Against his father Odin's will, The Mighty Tho...   \n",
                            "\n",
                            "     popularity  vote_average                        genres  \\\n",
                            "129   86.493424           6.6  [Adventure, Fantasy, Action]   \n",
                            "\n",
                            "                                              keywords  \\\n",
                            "129  [new mexico, banishment, shield, marvel comic,...   \n",
                            "\n",
                            "                                                  cast  \\\n",
                            "129  [Chris Hemsworth, Natalie Portman, Tom Hiddles...   \n",
                            "\n",
                            "                                                  crew  \n",
                            "129  [{\"credit_id\": \"52fe433f9251416c7500923d\", \"de...  "
                        ]
                    },
                    "execution_count": 107,
                    "metadata": {},
                    "output_type": "execute_result"
                }
            ],
            "source": [
                "movies.sample(1)"
            ]
        },
        {
            "cell_type": "markdown",
            "metadata": {},
            "source": [
                "Para 'Crew' creamos una nueva función que permita obtener únicamente los valores de las claves 'name' para cuyo 'job' el valor sea 'Director'. En resumen, estamos tratando de obtener el nombre del director."
            ]
        },
        {
            "cell_type": "code",
            "execution_count": 112,
            "metadata": {},
            "outputs": [],
            "source": [
                "#movies.crew[0]"
            ]
        },
        {
            "cell_type": "code",
            "execution_count": 109,
            "metadata": {},
            "outputs": [],
            "source": [
                "def fetch_director(obj):\n",
                "    L = []\n",
                "    for i in ast.literal_eval(obj):\n",
                "        if i['job'] == 'Director':\n",
                "            L.append(i['name'])\n",
                "            break\n",
                "    return L"
            ]
        },
        {
            "cell_type": "code",
            "execution_count": 110,
            "metadata": {},
            "outputs": [],
            "source": [
                "movies['crew'] = movies['crew'].apply(fetch_director)"
            ]
        },
        {
            "cell_type": "markdown",
            "metadata": {},
            "source": [
                "Solo nos queda la columna overview, la convertiremos en una lista usando el método 'split()'."
            ]
        },
        {
            "cell_type": "code",
            "execution_count": 111,
            "metadata": {},
            "outputs": [
                {
                    "data": {
                        "text/plain": [
                            "'In the 22nd century, a paraplegic Marine is dispatched to the moon Pandora on a unique mission, but becomes torn between following orders and protecting an alien civilization.'"
                        ]
                    },
                    "execution_count": 111,
                    "metadata": {},
                    "output_type": "execute_result"
                }
            ],
            "source": [
                "movies.overview[0]"
            ]
        },
        {
            "cell_type": "code",
            "execution_count": 113,
            "metadata": {},
            "outputs": [],
            "source": [
                "movies['overview'] = movies['overview'].apply(lambda x : x.split())"
            ]
        },
        {
            "cell_type": "markdown",
            "metadata": {},
            "source": [
                "\n",
                "Para que el sistema de recomendación no se confunda, por ejemplo entre 'Jennifer Aniston' y 'Jennifer Conelly', quitaremos los espacios entre palabras con otra función."
            ]
        },
        {
            "cell_type": "code",
            "execution_count": 114,
            "metadata": {},
            "outputs": [],
            "source": [
                "def collapse(L):\n",
                "    L1 = []\n",
                "    for i in L:\n",
                "        L1.append(i.replace(\" \",\"\"))\n",
                "    return L1"
            ]
        },
        {
            "cell_type": "markdown",
            "metadata": {},
            "source": [
                "Ahora apliquemos la funcion collapse para que elimine los espacios en las columnas cast, crew, genres y keywords"
            ]
        },
        {
            "cell_type": "code",
            "execution_count": 115,
            "metadata": {},
            "outputs": [],
            "source": [
                "movies['cast'] = movies['cast'].apply(collapse)\n",
                "movies['crew'] = movies['crew'].apply(collapse)\n",
                "movies['genres'] = movies['genres'].apply(collapse)\n",
                "movies['keywords'] = movies['keywords'].apply(collapse)"
            ]
        },
        {
            "cell_type": "code",
            "execution_count": 116,
            "metadata": {},
            "outputs": [
                {
                    "data": {
                        "text/plain": [
                            "['SamWorthington', 'ZoeSaldana', 'SigourneyWeaver']"
                        ]
                    },
                    "execution_count": 116,
                    "metadata": {},
                    "output_type": "execute_result"
                }
            ],
            "source": [
                "movies.cast[0]"
            ]
        },
        {
            "cell_type": "code",
            "execution_count": 117,
            "metadata": {},
            "outputs": [
                {
                    "data": {
                        "text/plain": [
                            "['JamesCameron']"
                        ]
                    },
                    "execution_count": 117,
                    "metadata": {},
                    "output_type": "execute_result"
                }
            ],
            "source": [
                "movies.crew[0]"
            ]
        },
        {
            "cell_type": "code",
            "execution_count": 118,
            "metadata": {},
            "outputs": [
                {
                    "data": {
                        "text/plain": [
                            "['Action', 'Adventure', 'Fantasy', 'ScienceFiction']"
                        ]
                    },
                    "execution_count": 118,
                    "metadata": {},
                    "output_type": "execute_result"
                }
            ],
            "source": [
                "movies.genres[0]"
            ]
        },
        {
            "cell_type": "code",
            "execution_count": 119,
            "metadata": {},
            "outputs": [
                {
                    "data": {
                        "text/plain": [
                            "['cultureclash',\n",
                            " 'future',\n",
                            " 'spacewar',\n",
                            " 'spacecolony',\n",
                            " 'society',\n",
                            " 'spacetravel',\n",
                            " 'futuristic',\n",
                            " 'romance',\n",
                            " 'space',\n",
                            " 'alien',\n",
                            " 'tribe',\n",
                            " 'alienplanet',\n",
                            " 'cgi',\n",
                            " 'marine',\n",
                            " 'soldier',\n",
                            " 'battle',\n",
                            " 'loveaffair',\n",
                            " 'antiwar',\n",
                            " 'powerrelations',\n",
                            " 'mindandsoul',\n",
                            " '3d']"
                        ]
                    },
                    "execution_count": 119,
                    "metadata": {},
                    "output_type": "execute_result"
                }
            ],
            "source": [
                "movies.keywords[0]"
            ]
        },
        {
            "cell_type": "markdown",
            "metadata": {},
            "source": [
                "Reduciremos nuestro conjunto de datos combinando todas nuestras columnas convertidas anteriores en una sola columna llamada 'etiquetas' (que crearemos). Esta columna ahora tendrá TODOS los elementos separados por comas, pero ignoraremos las comas usando lambda x :\" \".join(x)."
            ]
        },
        {
            "cell_type": "code",
            "execution_count": 120,
            "metadata": {},
            "outputs": [],
            "source": [
                "#Uno las columnas seleccionadas para conformar la nueva columna etiqueta que es la que usara el sistema de recomendacion\n",
                "\n",
                "movies['tags'] = movies['overview']+movies['genres']+movies['keywords']+movies['cast']+movies['crew']"
            ]
        },
        {
            "cell_type": "code",
            "execution_count": 121,
            "metadata": {},
            "outputs": [
                {
                    "data": {
                        "text/html": [
                            "<div>\n",
                            "<style scoped>\n",
                            "    .dataframe tbody tr th:only-of-type {\n",
                            "        vertical-align: middle;\n",
                            "    }\n",
                            "\n",
                            "    .dataframe tbody tr th {\n",
                            "        vertical-align: top;\n",
                            "    }\n",
                            "\n",
                            "    .dataframe thead th {\n",
                            "        text-align: right;\n",
                            "    }\n",
                            "</style>\n",
                            "<table border=\"1\" class=\"dataframe\">\n",
                            "  <thead>\n",
                            "    <tr style=\"text-align: right;\">\n",
                            "      <th></th>\n",
                            "      <th>movie_id</th>\n",
                            "      <th>title</th>\n",
                            "      <th>overview</th>\n",
                            "      <th>popularity</th>\n",
                            "      <th>vote_average</th>\n",
                            "      <th>genres</th>\n",
                            "      <th>keywords</th>\n",
                            "      <th>cast</th>\n",
                            "      <th>crew</th>\n",
                            "      <th>tags</th>\n",
                            "    </tr>\n",
                            "  </thead>\n",
                            "  <tbody>\n",
                            "    <tr>\n",
                            "      <th>1432</th>\n",
                            "      <td>14175</td>\n",
                            "      <td>Valiant</td>\n",
                            "      <td>[The, animated, comedy, tells, the, story, of,...</td>\n",
                            "      <td>14.051852</td>\n",
                            "      <td>5.2</td>\n",
                            "      <td>[Animation, Family, Adventure]</td>\n",
                            "      <td>[animation, animal, 3d]</td>\n",
                            "      <td>[EwanMcGregor, RickyGervais, TimCurry]</td>\n",
                            "      <td>[GaryChapman]</td>\n",
                            "      <td>[The, animated, comedy, tells, the, story, of,...</td>\n",
                            "    </tr>\n",
                            "    <tr>\n",
                            "      <th>4450</th>\n",
                            "      <td>146882</td>\n",
                            "      <td>Elza</td>\n",
                            "      <td>[A, young, Parisian, woman, of, Caribbean, des...</td>\n",
                            "      <td>0.007254</td>\n",
                            "      <td>0.0</td>\n",
                            "      <td>[Drama]</td>\n",
                            "      <td>[france, caribbeanislands, caribbean, womandir...</td>\n",
                            "      <td>[StanaRoumillac, VincentByrdLeSage, Christophe...</td>\n",
                            "      <td>[MarietteMonpierre]</td>\n",
                            "      <td>[A, young, Parisian, woman, of, Caribbean, des...</td>\n",
                            "    </tr>\n",
                            "  </tbody>\n",
                            "</table>\n",
                            "</div>"
                        ],
                        "text/plain": [
                            "      movie_id    title                                           overview  \\\n",
                            "1432     14175  Valiant  [The, animated, comedy, tells, the, story, of,...   \n",
                            "4450    146882     Elza  [A, young, Parisian, woman, of, Caribbean, des...   \n",
                            "\n",
                            "      popularity  vote_average                          genres  \\\n",
                            "1432   14.051852           5.2  [Animation, Family, Adventure]   \n",
                            "4450    0.007254           0.0                         [Drama]   \n",
                            "\n",
                            "                                               keywords  \\\n",
                            "1432                            [animation, animal, 3d]   \n",
                            "4450  [france, caribbeanislands, caribbean, womandir...   \n",
                            "\n",
                            "                                                   cast                 crew  \\\n",
                            "1432             [EwanMcGregor, RickyGervais, TimCurry]        [GaryChapman]   \n",
                            "4450  [StanaRoumillac, VincentByrdLeSage, Christophe...  [MarietteMonpierre]   \n",
                            "\n",
                            "                                                   tags  \n",
                            "1432  [The, animated, comedy, tells, the, story, of,...  \n",
                            "4450  [A, young, Parisian, woman, of, Caribbean, des...  "
                        ]
                    },
                    "execution_count": 121,
                    "metadata": {},
                    "output_type": "execute_result"
                }
            ],
            "source": [
                "movies.sample(2)"
            ]
        },
        {
            "cell_type": "code",
            "execution_count": 122,
            "metadata": {},
            "outputs": [
                {
                    "data": {
                        "text/plain": [
                            "['In',\n",
                            " 'the',\n",
                            " '22nd',\n",
                            " 'century,',\n",
                            " 'a',\n",
                            " 'paraplegic',\n",
                            " 'Marine',\n",
                            " 'is',\n",
                            " 'dispatched',\n",
                            " 'to',\n",
                            " 'the',\n",
                            " 'moon',\n",
                            " 'Pandora',\n",
                            " 'on',\n",
                            " 'a',\n",
                            " 'unique',\n",
                            " 'mission,',\n",
                            " 'but',\n",
                            " 'becomes',\n",
                            " 'torn',\n",
                            " 'between',\n",
                            " 'following',\n",
                            " 'orders',\n",
                            " 'and',\n",
                            " 'protecting',\n",
                            " 'an',\n",
                            " 'alien',\n",
                            " 'civilization.',\n",
                            " 'Action',\n",
                            " 'Adventure',\n",
                            " 'Fantasy',\n",
                            " 'ScienceFiction',\n",
                            " 'cultureclash',\n",
                            " 'future',\n",
                            " 'spacewar',\n",
                            " 'spacecolony',\n",
                            " 'society',\n",
                            " 'spacetravel',\n",
                            " 'futuristic',\n",
                            " 'romance',\n",
                            " 'space',\n",
                            " 'alien',\n",
                            " 'tribe',\n",
                            " 'alienplanet',\n",
                            " 'cgi',\n",
                            " 'marine',\n",
                            " 'soldier',\n",
                            " 'battle',\n",
                            " 'loveaffair',\n",
                            " 'antiwar',\n",
                            " 'powerrelations',\n",
                            " 'mindandsoul',\n",
                            " '3d',\n",
                            " 'SamWorthington',\n",
                            " 'ZoeSaldana',\n",
                            " 'SigourneyWeaver',\n",
                            " 'JamesCameron']"
                        ]
                    },
                    "execution_count": 122,
                    "metadata": {},
                    "output_type": "execute_result"
                }
            ],
            "source": [
                "movies.tags[0]"
            ]
        },
        {
            "cell_type": "markdown",
            "metadata": {},
            "source": [
                "Creo un nuevo Dataset solo con las columnas titulo, etiqueta recientemente creado y el id de la peli"
            ]
        },
        {
            "cell_type": "code",
            "execution_count": 123,
            "metadata": {},
            "outputs": [
                {
                    "name": "stderr",
                    "output_type": "stream",
                    "text": [
                        "/tmp/ipykernel_963/2759419224.py:3: SettingWithCopyWarning: \n",
                        "A value is trying to be set on a copy of a slice from a DataFrame.\n",
                        "Try using .loc[row_indexer,col_indexer] = value instead\n",
                        "\n",
                        "See the caveats in the documentation: https://pandas.pydata.org/pandas-docs/stable/user_guide/indexing.html#returning-a-view-versus-a-copy\n",
                        "  new_df['tags'] = new_df['tags'].apply(lambda x :\" \".join(x))\n"
                    ]
                }
            ],
            "source": [
                "new_df = movies[['movie_id','title','tags']]\n",
                "\n",
                "new_df['tags'] = new_df['tags'].apply(lambda x :\" \".join(x))"
            ]
        },
        {
            "cell_type": "code",
            "execution_count": 124,
            "metadata": {},
            "outputs": [
                {
                    "data": {
                        "text/plain": [
                            "'In the 22nd century, a paraplegic Marine is dispatched to the moon Pandora on a unique mission, but becomes torn between following orders and protecting an alien civilization. Action Adventure Fantasy ScienceFiction cultureclash future spacewar spacecolony society spacetravel futuristic romance space alien tribe alienplanet cgi marine soldier battle loveaffair antiwar powerrelations mindandsoul 3d SamWorthington ZoeSaldana SigourneyWeaver JamesCameron'"
                        ]
                    },
                    "execution_count": 124,
                    "metadata": {},
                    "output_type": "execute_result"
                }
            ],
            "source": [
                "new_df['tags'][0]"
            ]
        },
        {
            "cell_type": "markdown",
            "metadata": {},
            "source": [
                "Usaremos el algoritmo KNN para construir el sistema de recomendación. Antes de ingresar al modelo, procedamos con la vectorización de texto que aplicamos en la lección de PNL."
            ]
        },
        {
            "cell_type": "code",
            "execution_count": 125,
            "metadata": {},
            "outputs": [],
            "source": [
                "from sklearn.feature_extraction.text import CountVectorizer\n",
                "cv = CountVectorizer(max_features=5000 ,stop_words='english')"
            ]
        },
        {
            "cell_type": "code",
            "execution_count": 126,
            "metadata": {},
            "outputs": [],
            "source": [
                "vectors = cv.fit_transform(new_df['tags']).toarray()"
            ]
        },
        {
            "cell_type": "code",
            "execution_count": 127,
            "metadata": {},
            "outputs": [
                {
                    "data": {
                        "text/plain": [
                            "(4806, 5000)"
                        ]
                    },
                    "execution_count": 127,
                    "metadata": {},
                    "output_type": "execute_result"
                }
            ],
            "source": [
                "vectors.shape"
            ]
        },
        {
            "cell_type": "code",
            "execution_count": 129,
            "metadata": {},
            "outputs": [],
            "source": [
                "#cv.get_feature_names()"
            ]
        },
        {
            "cell_type": "markdown",
            "metadata": {},
            "source": [
                "\n",
                "Encontremos la similitud de coseno entre las películas. "
            ]
        },
        {
            "cell_type": "code",
            "execution_count": 131,
            "metadata": {},
            "outputs": [
                {
                    "data": {
                        "text/plain": [
                            "(4806, 4806)"
                        ]
                    },
                    "execution_count": 131,
                    "metadata": {},
                    "output_type": "execute_result"
                }
            ],
            "source": [
                "from sklearn.metrics.pairwise import cosine_similarity\n",
                "cosine_similarity(vectors).shape"
            ]
        },
        {
            "cell_type": "code",
            "execution_count": 132,
            "metadata": {},
            "outputs": [],
            "source": [
                "similarity = cosine_similarity(vectors)"
            ]
        },
        {
            "cell_type": "code",
            "execution_count": 133,
            "metadata": {},
            "outputs": [
                {
                    "data": {
                        "text/plain": [
                            "array([1.        , 0.08964215, 0.05976143, ..., 0.02519763, 0.02817181,\n",
                            "       0.        ])"
                        ]
                    },
                    "execution_count": 133,
                    "metadata": {},
                    "output_type": "execute_result"
                }
            ],
            "source": [
                "similarity[0]"
            ]
        },
        {
            "cell_type": "code",
            "execution_count": 134,
            "metadata": {},
            "outputs": [
                {
                    "data": {
                        "text/plain": [
                            "[(539, 0.26089696604360174),\n",
                            " (1194, 0.2581988897471611),\n",
                            " (507, 0.25302403842552984),\n",
                            " (260, 0.25110592822973776),\n",
                            " (1216, 0.24944382578492943)]"
                        ]
                    },
                    "execution_count": 134,
                    "metadata": {},
                    "output_type": "execute_result"
                }
            ],
            "source": [
                "sorted(list(enumerate(similarity[0])),reverse =True , key = lambda x:x[1])[1:6]"
            ]
        },
        {
            "cell_type": "markdown",
            "metadata": {},
            "source": [
                "Finalmente, crearemos una función de recomendación basada en cosine_similarity. Esta función debe recomendar las 5 películas más similares."
            ]
        },
        {
            "cell_type": "code",
            "execution_count": 135,
            "metadata": {},
            "outputs": [],
            "source": [
                "def recommend(movie):\n",
                "    movie_index = new_df[new_df['title'] == movie].index[0] #obteniendo el índice de la película\n",
                "    distances = similarity[movie_index]\n",
                "    movie_list = sorted(list(enumerate( distances)),reverse =True , key = lambda x:x[1])[1:6]\n",
                "    \n",
                "    for i in movie_list:\n",
                "        print(new_df.iloc[i[0]].title)"
            ]
        },
        {
            "cell_type": "markdown",
            "metadata": {},
            "source": [
                "Comprobamos el sistema de recomendación introduciendo una película. Es decir partiendo de una pelicula y sus similitudes, el sistema recomendara cinco mas, que es el resultado de todo el procedimiento realizado anteriormente"
            ]
        },
        {
            "cell_type": "code",
            "execution_count": 136,
            "metadata": {},
            "outputs": [
                {
                    "name": "stdout",
                    "output_type": "stream",
                    "text": [
                        "Titan A.E.\n",
                        "Small Soldiers\n",
                        "Independence Day\n",
                        "Ender's Game\n",
                        "Aliens vs Predator: Requiem\n"
                    ]
                }
            ],
            "source": [
                "recommend('Avatar')"
            ]
        },
        {
            "cell_type": "code",
            "execution_count": 137,
            "metadata": {},
            "outputs": [
                {
                    "name": "stdout",
                    "output_type": "stream",
                    "text": [
                        "Star Trek: Insurrection\n",
                        "Mission to Mars\n",
                        "Captain America: The First Avenger\n",
                        "Escape from Planet Earth\n",
                        "Ghosts of Mars\n"
                    ]
                }
            ],
            "source": [
                "recommend('John Carter') ### Esta es muy buena :)"
            ]
        },
        {
            "cell_type": "markdown",
            "metadata": {},
            "source": []
        }
    ],
    "metadata": {
        "kernelspec": {
            "display_name": "Python 3.8.13 64-bit ('3.8.13')",
            "language": "python",
            "name": "python3"
        },
        "language_info": {
            "codemirror_mode": {
                "name": "ipython",
                "version": 3
            },
            "file_extension": ".py",
            "mimetype": "text/x-python",
            "name": "python",
            "nbconvert_exporter": "python",
            "pygments_lexer": "ipython3",
            "version": "3.8.13"
        },
        "orig_nbformat": 4,
        "vscode": {
            "interpreter": {
                "hash": "110cc1dee26208153f2972f08a2ad52b6a56238dc66d48e87fb757ef2996db56"
            }
        }
    },
    "nbformat": 4,
    "nbformat_minor": 2
}
